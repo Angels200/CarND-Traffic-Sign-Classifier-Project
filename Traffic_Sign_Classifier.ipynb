{
 "cells": [
  {
   "cell_type": "markdown",
   "metadata": {},
   "source": [
    "# Self-Driving Car Engineer Nanodegree\n",
    "\n",
    "## Deep Learning\n",
    "\n",
    "## Project: Build a Traffic Sign Recognition Classifier\n",
    "\n",
    "In this notebook, a template is provided for you to implement your functionality in stages which is required to successfully complete this project. If additional code is required that cannot be included in the notebook, be sure that the Python code is successfully imported and included in your submission, if necessary. Sections that begin with **'Implementation'** in the header indicate where you should begin your implementation for your project. Note that some sections of implementation are optional, and will be marked with **'Optional'** in the header.\n",
    "\n",
    "In addition to implementing code, there will be questions that you must answer which relate to the project and your implementation. Each section where you will answer a question is preceded by a **'Question'** header. Carefully read each question and provide thorough answers in the following text boxes that begin with **'Answer:'**. Your project submission will be evaluated based on your answers to each of the questions and the implementation you provide.\n",
    "\n",
    ">**Note:** Code and Markdown cells can be executed using the **Shift + Enter** keyboard shortcut. In addition, Markdown cells can be edited by typically double-clicking the cell to enter edit mode."
   ]
  },
  {
   "cell_type": "markdown",
   "metadata": {},
   "source": [
    "---\n",
    "## Step 0: Load The Data"
   ]
  },
  {
   "cell_type": "code",
   "execution_count": null,
   "metadata": {
    "collapsed": true
   },
   "outputs": [],
   "source": [
    "# Load pickled data\n",
    "import pickle\n",
    "\n",
    "# TODO: Fill this in based on where you saved the training and testing data\n",
    "\n",
    "training_file = 'train.p'\n",
    "testing_file = 'test.p'\n",
    "\n",
    "with open(training_file, mode='rb') as f:\n",
    "    train = pickle.load(f)\n",
    "with open(testing_file, mode='rb') as f:\n",
    "    test = pickle.load(f)\n",
    "    \n",
    "X_train, y_train = train['features'], train['labels']\n",
    "X_test, y_test = test['features'], test['labels']"
   ]
  },
  {
   "cell_type": "markdown",
   "metadata": {},
   "source": [
    "---\n",
    "\n",
    "## Step 1: Dataset Summary & Exploration\n",
    "\n",
    "The pickled data is a dictionary with 4 key/value pairs:\n",
    "\n",
    "- `'features'` is a 4D array containing raw pixel data of the traffic sign images, (num examples, width, height, channels).\n",
    "- `'labels'` is a 2D array containing the label/class id of the traffic sign. The file `signnames.csv` contains id -> name mappings for each id.\n",
    "- `'sizes'` is a list containing tuples, (width, height) representing the the original width and height the image.\n",
    "- `'coords'` is a list containing tuples, (x1, y1, x2, y2) representing coordinates of a bounding box around the sign in the image. **THESE COORDINATES ASSUME THE ORIGINAL IMAGE. THE PICKLED DATA CONTAINS RESIZED VERSIONS (32 by 32) OF THESE IMAGES**\n",
    "\n",
    "Complete the basic data summary below."
   ]
  },
  {
   "cell_type": "code",
   "execution_count": null,
   "metadata": {
    "collapsed": false
   },
   "outputs": [],
   "source": [
    "### Replace each question mark with the appropriate value.\n",
    "import numpy as np\n",
    "# TODO: Number of training examples\n",
    "n_train = X_train.shape[0]\n",
    "\n",
    "# TODO: Number of testing examples.\n",
    "n_test = X_test.shape[0]\n",
    "\n",
    "# TODO: What's the shape of an traffic sign image?\n",
    "image_shape = (X_train.shape[1],X_train.shape[2],X_train.shape[3])\n",
    "\n",
    "# TODO: How many unique classes/labels there are in the dataset.\n",
    "n_classes = np.unique(y_train).size\n",
    "\n",
    "print(\"Number of training examples =\", n_train)\n",
    "print(\"Number of testing examples =\", n_test)\n",
    "print(\"Image data shape =\", image_shape)\n",
    "print(\"Number of classes =\", n_classes)"
   ]
  },
  {
   "cell_type": "markdown",
   "metadata": {},
   "source": [
    "Visualize the German Traffic Signs Dataset using the pickled file(s). This is open ended, suggestions include: plotting traffic sign images, plotting the count of each sign, etc.\n",
    "\n",
    "The [Matplotlib](http://matplotlib.org/) [examples](http://matplotlib.org/examples/index.html) and [gallery](http://matplotlib.org/gallery.html) pages are a great resource for doing visualizations in Python.\n",
    "\n",
    "**NOTE:** It's recommended you start with something simple first. If you wish to do more, come back to it after you've completed the rest of the sections."
   ]
  },
  {
   "cell_type": "code",
   "execution_count": null,
   "metadata": {
    "collapsed": false
   },
   "outputs": [],
   "source": [
    "### Data exploration visualization goes here.\n",
    "### Feel free to use as many code cells as needed.\n",
    "import matplotlib.pyplot as plt\n",
    "import random\n",
    "# Visualizations will be shown in the notebook.\n",
    "%matplotlib inline\n",
    "\n",
    "def visualize(X_train, y_train) :\n",
    "        indx = np.arange(y_train.shape[0])\n",
    "        np.random.shuffle(indx)\n",
    "        # create subplot and fill with images\n",
    "        f, e = plt.subplots(10, 3)\n",
    "        for i in range(10):\n",
    "            for j in range(3):\n",
    "                e[i, j].imshow(X_train[indx[j+10*i]])\n",
    "                plt.setp(e[i,j].get_xticklabels(), visible=False)\n",
    "                plt.setp(e[i,j].get_yticklabels(), visible=False)\n",
    "        plt.show()\n",
    "        \n",
    "#visualize(X_train, y_train)\n"
   ]
  },
  {
   "cell_type": "code",
   "execution_count": null,
   "metadata": {
    "collapsed": false
   },
   "outputs": [],
   "source": [
    "   \n",
    "def visualize_distribution(y_test, y_train):\n",
    "    plt.figure(1)\n",
    "    n, bins, patches = plt.hist(y_train, 70, facecolor='green', alpha=0.75)\n",
    "\n",
    "    plt.xlabel('Train Label Classes')\n",
    "    plt.ylabel('Train Label Samples Number')\n",
    "    plt.title('Training Samples Distribution')\n",
    "    plt.grid(True)\n",
    "\n",
    "    plt.figure(2)\n",
    "    n, bins, patches = plt.hist(y_test,70, facecolor='green', alpha=0.75)\n",
    "\n",
    "    plt.xlabel('Test Label Classes')\n",
    "    plt.ylabel('Test Label Samples Number')\n",
    "    plt.title('Test Samples Distribution')\n",
    "    plt.grid(True)\n",
    "    plt.show()\n",
    "    \n",
    "#visualize_distribution(y_test, y_train)\n"
   ]
  },
  {
   "cell_type": "markdown",
   "metadata": {},
   "source": [
    "----\n",
    "\n",
    "## Step 2: Design and Test a Model Architecture\n",
    "\n",
    "Design and implement a deep learning model that learns to recognize traffic signs. Train and test your model on the [German Traffic Sign Dataset](http://benchmark.ini.rub.de/?section=gtsrb&subsection=dataset).\n",
    "\n",
    "There are various aspects to consider when thinking about this problem:\n",
    "\n",
    "- Neural network architecture\n",
    "- Play around preprocessing techniques (normalization, rgb to grayscale, etc)\n",
    "- Number of examples per label (some have more than others).\n",
    "- Generate fake data.\n",
    "\n",
    "Here is an example of a [published baseline model on this problem](http://yann.lecun.com/exdb/publis/pdf/sermanet-ijcnn-11.pdf). It's not required to be familiar with the approach used in the paper but, it's good practice to try to read papers like these.\n",
    "\n",
    "**NOTE:** The LeNet-5 implementation shown in the [classroom](https://classroom.udacity.com/nanodegrees/nd013/parts/fbf77062-5703-404e-b60c-95b78b2f3f9e/modules/6df7ae49-c61c-4bb2-a23e-6527e69209ec/lessons/601ae704-1035-4287-8b11-e2c2716217ad/concepts/d4aca031-508f-4e0b-b493-e7b706120f81) at the end of the CNN lesson is a solid starting point. You'll have to change the number of classes and possibly the preprocessing, but aside from that it's plug and play!"
   ]
  },
  {
   "cell_type": "markdown",
   "metadata": {},
   "source": [
    "### Implementation\n",
    "\n",
    "Use the code cell (or multiple code cells, if necessary) to implement the first step of your project. Once you have completed your implementation and are satisfied with the results, be sure to thoroughly answer the questions that follow."
   ]
  },
  {
   "cell_type": "code",
   "execution_count": null,
   "metadata": {
    "collapsed": false
   },
   "outputs": [],
   "source": [
    "from skimage import exposure\n",
    "\n",
    "import time\n",
    "from tqdm import tqdm\n",
    "\n",
    "class DataPreprocessor(object) :\n",
    "    \n",
    "    def simple_rescale(self,image):\n",
    "        image = image / 255. * 0.8 + 0.1\n",
    "        return image\n",
    "\n",
    "    def mean_substract(self,image):\n",
    "        #np.mean(images, axis = 0,dtype=np.uint8)\n",
    "        image -= np.mean(image, axis = 0,dtype=np.uint8)\n",
    "        return image\n",
    "\n",
    "    def feature_standardization(self, image):\n",
    "        image = image / np.std(image, axis = 0)\n",
    "        return image\n",
    "\n",
    "    def exposure(self,image):\n",
    "        return exposure.equalize_adapthist(image)\n",
    "\n",
    "    def preprocess(self,image):\n",
    "        #image = substract_noise(image)\n",
    "        image = self.simple_rescale(image)\n",
    "        image = self.mean_substract(image)\n",
    "        image = self.exposure(image)\n",
    "        return image\n",
    "\n",
    "\n",
    "    def preprocess_batch(self,images):\n",
    "        imgs = np.copy(images)\n",
    "        for i in tqdm(range(images.shape[0])):\n",
    "            imgs[i] = self.preprocess(images[i])\n",
    "        return imgs\n",
    "    '''\n",
    "    def preprocess_batch(self,X):\n",
    "        #Convert to grayscale, e.g. single Y channel\n",
    "        X = 0.299 * X[:, :, :, 0] + 0.587 * X[:, :, :, 1] + 0.114 * X[:, :, :, 2]\n",
    "        #Scale features to be in [0, 1]\n",
    "        X = (X / 255.).astype(np.float32)\n",
    "\n",
    "        # Apply localized histogram localization  \n",
    "        for i in tqdm(range(X.shape[0])):\n",
    "            X[i] = exposure.equalize_adapthist(X[i])\n",
    "        \n",
    "        # Add a single grayscale channel\n",
    "        X = X.reshape(X.shape + (1,)) \n",
    "        return X\n",
    "    '''"
   ]
  },
  {
   "cell_type": "code",
   "execution_count": null,
   "metadata": {
    "collapsed": false
   },
   "outputs": [],
   "source": [
    "import matplotlib.pyplot as plt\n",
    "# Test preprocessing algorithm on one image\n",
    "'''\n",
    "\n",
    "dp = DataPreprocessor()     \n",
    "plt.figure(1)\n",
    "plt.imshow(X_train[10])\n",
    "plt.figure(2)\n",
    "X_train = dp.preprocess_batch(X_train)\n",
    "plt.imshow(X_train[10])\n",
    "plt.show()\n",
    "\n",
    "\n",
    "X_train = dp.preprocess_batch(X_train)\n",
    "X_test = dp.preprocess_batch(X_test)\n",
    "'''\n"
   ]
  },
  {
   "cell_type": "markdown",
   "metadata": {},
   "source": [
    "### Question 1 \n",
    "\n",
    "_Describe how you preprocessed the data. Why did you choose that technique?_"
   ]
  },
  {
   "cell_type": "markdown",
   "metadata": {},
   "source": [
    "**Answer:**"
   ]
  },
  {
   "cell_type": "markdown",
   "metadata": {},
   "source": [
    "# Data Preprocessing\n",
    "\n",
    "The preprocess stage aims to :\n",
    "  1.Normalize data\n",
    "\n",
    "1.Data Normalization : in order to make the learning process performing better. The CNN learns its weights by adding gradient error vectors multiplied by the learning rate computed from backprop to weight matrices as the training process is running. so we end up with the following equation :\n",
    "W = W + (learningrate * gradient descent)\n",
    "\n",
    "Initial conditions : At the begining of the learning process, the input features values distributions are different for each one (feature). Thus the learning rate would correct in each dimension from one another. it might be over compensating a correction in one weight dimension while undercompensating in another.\n",
    "\n",
    "The gradient descent find itself oscillating and unable to center or moving slowly  onto a better minima. So therefore, to reach a better minima and avoiding the oscillation (see above)  we need to normalize the input features values.\n",
    "\n",
    "The scenario for preprocessing dataset is based on dataset normalization using three following methods to compare the average error (%) for each (http://ijssst.info/Vol-15/No-2/data/3251a024.pdf §IV. RESULTS AND DISCUSSIONS.)\n",
    "\n",
    "The methods are :\n",
    "    1.Simple Rescale\n",
    "    2.Substract Mean \n",
    "    \n",
    "\n",
    "\n",
    "Each normalization methods is implemented by a \"normalized\" pipeline (see \"class DataPreProcessor\" bellow).\n",
    "The normalization is part of the preprocess stage and should be applied after the Data augmentation stage (see later \"class DataAugmenter\") if exists.\n",
    "\n",
    "\n"
   ]
  },
  {
   "cell_type": "code",
   "execution_count": null,
   "metadata": {
    "collapsed": false
   },
   "outputs": [],
   "source": [
    "#apply_preprocessing(X_train, y_train,True) "
   ]
  },
  {
   "cell_type": "markdown",
   "metadata": {},
   "source": [
    "### Question 2\n",
    "\n",
    "_Describe how you set up the training, validation and testing data for your model. **Optional**: If you generated additional data, how did you generate the data? Why did you generate the data? What are the differences in the new dataset (with generated data) from the original dataset?_"
   ]
  },
  {
   "cell_type": "markdown",
   "metadata": {},
   "source": [
    "**Answer:**"
   ]
  },
  {
   "cell_type": "markdown",
   "metadata": {},
   "source": [
    "# Data Augmentation and Spliting\n",
    "\n",
    "Data augmentation is done to artificially increase the size of the dataset. Various affine transformations are applied to slightly perturb each image so that the network will receive a different variation of each image on every iteration.\n",
    "\n",
    "Random rotations between -10 and 10 degrees.\n",
    "Random translation between -10 and 10 pixels in any direction.\n",
    "Random zoom between factors of 1 and 1.3.\n",
    "Random shearing between -25 and 25 degrees.\n",
    "Bool choice to invert colors.\n",
    "Sobel edge detector applied to 1/4 of images.\n"
   ]
  },
  {
   "cell_type": "code",
   "execution_count": null,
   "metadata": {
    "collapsed": false
   },
   "outputs": [],
   "source": [
    "from skimage import transform, filters, exposure, img_as_float\n",
    "from skimage.transform import rescale\n",
    "from random import randint,uniform\n",
    "\n",
    "class DataAugmenter(object):\n",
    "    def fast_warp(self, img, tf, output_shape, mode='wrap'):\n",
    "        return transform._warps_cy._warp_fast(img, tf.params,\n",
    "                                          output_shape=output_shape, mode=mode)\n",
    "\n",
    "    def augment(self,images):\n",
    "        # set empty copy to hold augmented images so that we don't overwrite\n",
    "        #print(images.shape)\n",
    "        #print(images[1][:,:][:,:])\n",
    "        images_aug = np.empty(shape = (images.shape[0], images.shape[1],images.shape[2],images.shape[3]),\n",
    "                               dtype = 'float32')\n",
    "        print(images_aug[0].shape)\n",
    "\n",
    "        # random rotations betweein -10 and 10 degrees\n",
    "        dorotate = randint(-10,10)\n",
    "\n",
    "        # random translations\n",
    "        trans_1 = randint(-10,10)\n",
    "        trans_2 = randint(-10,10)\n",
    "\n",
    "        # random zooms\n",
    "        zoom = uniform(1, 1.3)\n",
    "\n",
    "        # shearing\n",
    "        shear_deg = uniform(-25, 25)\n",
    "\n",
    "        # set the transform parameters for skimage.transform.warp\n",
    "        # have to shift to center and then shift back after transformation otherwise\n",
    "        # rotations will make image go out of frame\n",
    "        center_shift   = np.array((32, 32)) / 2. - 0.5\n",
    "        tform_center   = transform.SimilarityTransform(translation=-center_shift)\n",
    "        tform_uncenter = transform.SimilarityTransform(translation=center_shift)\n",
    "\n",
    "        tform_aug = transform.AffineTransform(rotation = np.deg2rad(dorotate),\n",
    "                                              scale =(1/zoom, 1/zoom),\n",
    "                                              shear = np.deg2rad(shear_deg),\n",
    "                                              translation = (trans_1, trans_2))\n",
    "\n",
    "        tform = tform_center + tform_aug + tform_uncenter\n",
    "\n",
    "        #output = numpy.empty(images.shape[1],images.shape[2],images.shape[3]),dtype=numpy.float32)\n",
    "        \n",
    "        for j in range(images.shape[0]):\n",
    "            for channel in range(images.shape[3]):\n",
    "                images_aug[j][:, :,channel] = self.fast_warp(\n",
    "                                                    images[j][:, :,channel],\n",
    "                                                    tform,\n",
    "                                                    output_shape=(images.shape[1],images.shape[2]))\n",
    "        \n",
    "        \n",
    "        '''\n",
    "        # use sobel edge detector filter on one quarter of the images\n",
    "        indices_sobel = np.random.choice(images_aug.shape[0],\n",
    "                                         images_aug.shape[0] / 4, replace = False)\n",
    "        for k in indices_sobel:\n",
    "            for channel in range(images.shape[3]):\n",
    "                print(rescale(images_aug[k][:, :,channel],.5))\n",
    "                images_aug[k][:, :,channel] = filters.sobel(rescale(images_aug[k][:, :,channel],.5))\n",
    "        '''\n",
    "        # invert half of the images\n",
    "        indices_invert = np.random.choice(images_aug.shape[0],\n",
    "                                          images_aug.shape[0] / 2, replace = False)\n",
    "        for l in indices_invert:\n",
    "            for channel in range(images.shape[3]):\n",
    "                img = images_aug[l][:, :,channel]\n",
    "                images_aug[l][:, :,channel] = np.absolute(img - np.amax(img))\n",
    "            \n",
    "        return images_aug"
   ]
  },
  {
   "cell_type": "code",
   "execution_count": null,
   "metadata": {
    "collapsed": false
   },
   "outputs": [],
   "source": [
    "#from itertools import groupby\n",
    "#label_per_class = np.array([(k,len(list(v))) for k,v in groupby(y_train)])\n",
    "#print(label_per_class)"
   ]
  },
  {
   "cell_type": "code",
   "execution_count": null,
   "metadata": {
    "collapsed": false
   },
   "outputs": [],
   "source": [
    "### Define your architecture here.\n",
    "### Feel free to use as many code cells as needed.\n",
    "\n",
    "def augment(X_train, y_train):\n",
    "    da = DataAugmenter()\n",
    "    X_valid = da.augment(X_train)\n",
    "    y_valid = y_train\n",
    "    plt.figure(1)\n",
    "    plt.imshow(X_train[2045])\n",
    "    plt.figure(2)\n",
    "    #plt.imshow(X_valid[2045])\n",
    "    plt.show()\n",
    "    return X_valid,y_valid\n",
    "X_validation, y_validation = augment(X_train, y_train)"
   ]
  },
  {
   "cell_type": "code",
   "execution_count": null,
   "metadata": {
    "collapsed": false
   },
   "outputs": [],
   "source": [
    "from sklearn.cross_validation import train_test_split\n",
    "# We will use 80% for training and 20% for validation\n",
    "def split_data(x, y):\n",
    "    data_train, data_valid, labels_train, labels_valid = train_test_split(x, y, test_size=0.20, random_state=42)\n",
    "    print(\"Shape of training examples = \", data_train.shape)\n",
    "    print(\"Shape of validation examples = \", data_valid.shape)\n",
    "    return data_train, data_valid, labels_train, labels_valid\n",
    "\n",
    "#X_train, X_validation, y_train, y_validation = split_data(X_train, y_train)"
   ]
  },
  {
   "cell_type": "code",
   "execution_count": null,
   "metadata": {
    "collapsed": false
   },
   "outputs": [],
   "source": [
    "import tensorflow as tf\n",
    "def accuracy(predictions, labels):\n",
    "      return (100.0 * np.sum(np.argmax(predictions, 1) == np.argmax(labels, 1))/ predictions.shape[0])\n",
    "\n",
    "X_validation, y_validation = augment(X_train, y_train)\n",
    "\n",
    "train_one_hot_labels = (np.arange(n_classes) == y_train[:,None]).astype(np.float32)\n",
    "valid_one_hot_labels = (np.arange(n_classes) == y_validation[:,None]).astype(np.float32)\n",
    "test_one_hot_labels = (np.arange(n_classes) == y_test[:,None]).astype(np.float32)\n",
    "\n",
    "\n",
    "print('Training set', X_train.shape, train_one_hot_labels.shape)\n",
    "print('Validation set', X_validation.shape, valid_one_hot_labels.shape)\n",
    "print('Test set', X_test.shape, test_one_hot_labels.shape)\n"
   ]
  },
  {
   "cell_type": "markdown",
   "metadata": {},
   "source": [
    "### Question 3\n",
    "\n",
    "_What does your final architecture look like? (Type of model, layers, sizes, connectivity, etc.)  For reference on how to build a deep neural network using TensorFlow, see [Deep Neural Network in TensorFlow\n",
    "](https://classroom.udacity.com/nanodegrees/nd013/parts/fbf77062-5703-404e-b60c-95b78b2f3f9e/modules/6df7ae49-c61c-4bb2-a23e-6527e69209ec/lessons/b516a270-8600-4f93-a0a3-20dfeabe5da6/concepts/83a3a2a2-a9bd-4b7b-95b0-eb924ab14432) from the classroom._\n"
   ]
  },
  {
   "cell_type": "markdown",
   "metadata": {},
   "source": [
    "**Answer:**"
   ]
  },
  {
   "cell_type": "markdown",
   "metadata": {},
   "source": [
    "My model uses LeNet Lab as starting point :\n",
    "1/Convolutional Layer Input = 32x32x3 (3 channels), stride=1, filter=(5,5,3,10), Output = 28x28x10\n",
    "2/Activation Layer \n",
    "3/Pooling Layer Input = 28x28x10, stride=1, kernel=(1,2,2,1), Output = 14x14x10\n",
    "4/Convolutional Layer Input = 14x14x10, stride=(1, 1, 1, 1), filter=(5, 5, 10, 20) Output = 10x10x20\n",
    "5/Activation Layer \n",
    "6/Pooling Layer Input = 10x10x20,stride=(1, 2, 2, 1) kernel=(1, 2, 2, 1), Output = 5x5x20\n",
    "7/Flatten input = 5x5x20, output = 500\n",
    "8/Fully Connected with added dropout input = 500, output = 160\n",
    "9/Activation \n",
    "10/Fully Connected with added dropout Layer input = 120, output = 60\n",
    "11/Activation \n",
    "12/fully connected with added dropout layer input = 84, outpput= 43"
   ]
  },
  {
   "cell_type": "code",
   "execution_count": null,
   "metadata": {
    "collapsed": true
   },
   "outputs": [],
   "source": [
    "from tensorflow.contrib.layers import flatten\n",
    "\n",
    "def LeNet(x):    \n",
    "    # Arguments used for tf.truncated_normal, randomly defines variables for the weights and biases for each layer\n",
    "    mu = 0\n",
    "    sigma = 0.1\n",
    "    \n",
    "    # SOLUTION: Layer 0: Convolutional. Input = 32x32x1. Output = 32x32x3.\n",
    "    conv0_W = tf.Variable(tf.truncated_normal(shape=(1, 1, 3, 3), mean = mu, stddev = sigma))\n",
    "    conv0_b = tf.Variable(tf.zeros(3))\n",
    "    conv0   = tf.nn.conv2d(x, conv0_W, strides=[1, 1, 1, 1], padding='VALID') + conv0_b\n",
    "\n",
    "    # SOLUTION: Layer 1: Convolutional. Input = 32x32x3. Output = 28x28x32.\n",
    "    conv1_W = tf.Variable(tf.truncated_normal(shape=(5, 5, 3, 32), mean = mu, stddev = sigma))\n",
    "    conv1_b = tf.Variable(tf.zeros(32))\n",
    "    conv1   = tf.nn.conv2d(x, conv1_W, strides=[1, 1, 1, 1], padding='VALID') + conv1_b\n",
    "\n",
    "    # SOLUTION: Activation.\n",
    "    conv1 = tf.nn.relu(conv1)\n",
    "\n",
    "    # SOLUTION: Pooling. Input = 28x28x32. Output = 14x14x32.\n",
    "    conv1 = tf.nn.max_pool(conv1, ksize=[1, 2, 2, 1], strides=[1, 2, 2, 1], padding='VALID')\n",
    "    conv1 = tf.nn.dropout(conv1, 0.9)\n",
    "  \n",
    "    # SOLUTION: Layer 2: Convolutional. Input = 14x14x32. Output = 10x10x64.\n",
    "    conv2_W = tf.Variable(tf.truncated_normal(shape=(5, 5, 32, 64), mean = mu, stddev = sigma))\n",
    "    conv2_b = tf.Variable(tf.zeros(64))\n",
    "    conv2   = tf.nn.conv2d(conv1, conv2_W, strides=[1, 1, 1, 1], padding='VALID') + conv2_b\n",
    "    \n",
    "    # SOLUTION: Activation.\n",
    "    conv2 = tf.nn.relu(conv2)\n",
    "    conv2 = tf.nn.dropout(conv2, 0.8)\n",
    "    \n",
    "    '''\n",
    "    # SOLUTION: Pooling. Input = 10x10x64. Output = 5x5x64\n",
    "    conv2 = tf.nn.max_pool(conv2, ksize=[1, 2, 2, 1], strides=[1, 2, 2, 1], padding='VALID')\n",
    "    conv2 = tf.nn.dropout(conv2, 0.5)\n",
    "    '''\n",
    "    \n",
    "    # SOLUTION: Layer 3: Convolutional. Input = 10x10x64. Output = 5x5x128\n",
    "    conv3_W = tf.Variable(tf.truncated_normal(shape=(5, 5, 64, 128), mean = mu, stddev = sigma))\n",
    "    conv3_b = tf.Variable(tf.zeros(128))\n",
    "    conv3  = tf.nn.conv2d(conv2, conv3_W, strides=[1, 1, 1, 1], padding='VALID') + conv3_b\n",
    "    \n",
    "    # SOLUTION: Activation.\n",
    "    conv3 = tf.nn.relu(conv3)\n",
    "    conv3 = tf.nn.dropout(conv3, 0.7)\n",
    "    \n",
    "    '''\n",
    "    # SOLUTION: Pooling. Input = 10x10x64. Output = 5x5x64\n",
    "    conv3 = tf.nn.max_pool(conv3, ksize=[1, 2, 2, 1], strides=[1, 2, 2, 1], padding='VALID')\n",
    "    conv3 = tf.nn.dropout(conv3, 0.5)\n",
    "    '''\n",
    "    \n",
    "    # SOLUTION: Flatten. Input = 14x14x32. Output = 4608.\n",
    "    fc0   = flatten(conv3)\n",
    "    \n",
    "    # SOLUTION: Layer 4: Fully Connected. Input = 1024. Output = 1024.\n",
    "    fc1_W = tf.Variable(tf.truncated_normal(shape=(4608, 1024), mean = mu, stddev = sigma))\n",
    "    fc1_b = tf.Variable(tf.zeros(1024))\n",
    "    fc1   = tf.matmul(fc0, fc1_W) + fc1_b\n",
    "    \n",
    "    # SOLUTION: Activation.\n",
    "    fc1    = tf.nn.relu(fc1)\n",
    "    fc1 = tf.nn.dropout(fc1, 0.5)\n",
    "    '''\n",
    "    # SOLUTION: Layer 4: Fully Connected. Input = 1024. Output = 1024.\n",
    "    fc2_W  = tf.Variable(tf.truncated_normal(shape=(1024, 1024), mean = mu, stddev = sigma))\n",
    "    fc2_b  = tf.Variable(tf.zeros(1024))\n",
    "    fc2    = tf.matmul(fc1, fc2_W) + fc2_b\n",
    "    \n",
    "    \n",
    "    # SOLUTION: Activation.\n",
    "    fc2    = tf.nn.relu(fc2)\n",
    "    fc2 = tf.nn.dropout(fc2, 0.5)\n",
    "    '''\n",
    "    \n",
    "    # SOLUTION: Layer 5: Fully Connected. Input = 1024. Output = 43.\n",
    "    fc3_W  = tf.Variable(tf.truncated_normal(shape=(1024, 43), mean = mu, stddev = sigma))\n",
    "    fc3_b  = tf.Variable(tf.zeros(43))\n",
    "    logits = tf.matmul(fc1, fc3_W) + fc3_b\n",
    "    #logits = tf.nn.dropout(logits, 0.5)\n",
    "    \n",
    "    return logits"
   ]
  },
  {
   "cell_type": "code",
   "execution_count": null,
   "metadata": {
    "collapsed": false
   },
   "outputs": [],
   "source": [
    "### Train your model here.io\n",
    "### Feel free to use as many code cells as needed.\n",
    "rate = 0.0001\n",
    "EPOCHS = 50\n",
    "BATCH_SIZE = 100\n",
    "\n",
    "x = tf.placeholder(tf.float32, (None, 32, 32, 3))\n",
    "y = tf.placeholder(tf.int32, (None))\n",
    "one_hot_y = tf.one_hot(y, 43)\n",
    "logits = LeNet(x)\n",
    "cross_entropy = tf.nn.softmax_cross_entropy_with_logits(logits, one_hot_y)\n",
    "loss_operation = tf.reduce_mean(cross_entropy)\n",
    "\n",
    "# Optimizer.\n",
    "optimizer = tf.train.AdamOptimizer(learning_rate = rate)\n",
    "\n",
    "training_operation = optimizer.minimize(loss_operation)\n",
    "\n",
    "correct_prediction = tf.equal(tf.argmax(logits, 1), tf.argmax(one_hot_y, 1))\n",
    "accuracy_operation = tf.reduce_mean(tf.cast(correct_prediction, tf.float32))\n",
    "saver = tf.train.Saver()\n",
    "\n",
    "def evaluate(X_data, y_data):\n",
    "    num_examples = len(X_data)\n",
    "    total_accuracy = 0\n",
    "    sess = tf.get_default_session()\n",
    "    for offset in range(0, num_examples, BATCH_SIZE):\n",
    "        batch_x, batch_y = X_data[offset:offset+BATCH_SIZE], y_data[offset:offset+BATCH_SIZE]\n",
    "        accuracy = sess.run(accuracy_operation, feed_dict={x: batch_x, y: batch_y})\n",
    "        total_accuracy += (accuracy * len(batch_x))\n",
    "    return (total_accuracy / num_examples)"
   ]
  },
  {
   "cell_type": "code",
   "execution_count": 86,
   "metadata": {
    "collapsed": false
   },
   "outputs": [
    {
     "name": "stderr",
     "output_type": "stream",
     "text": [
      "  0%|          | 0/39209 [00:00<?, ?it/s]/home/naaman/anaconda3/envs/CTSC/lib/python3.5/site-packages/scikit_image-0.12.3-py3.5-linux-x86_64.egg/skimage/util/dtype.py:110: UserWarning: Possible precision loss when converting from float64 to uint16\n",
      "  \"%s to %s\" % (dtypeobj_in, dtypeobj))\n",
      "  0%|          | 13/39209 [00:00<05:10, 126.24it/s]"
     ]
    },
    {
     "name": "stdout",
     "output_type": "stream",
     "text": [
      "Preprocessing Train Data...\n",
      "\n"
     ]
    },
    {
     "name": "stderr",
     "output_type": "stream",
     "text": [
      "100%|██████████| 39209/39209 [04:56<00:00, 132.05it/s]\n"
     ]
    },
    {
     "name": "stdout",
     "output_type": "stream",
     "text": [
      "Training Model...\n",
      "\n",
      "EPOCH 1 ...\n",
      "Validation Accuracy = 5.264\n",
      "\n",
      "EPOCH 2 ...\n",
      "Validation Accuracy = 4.721\n",
      "\n",
      "EPOCH 3 ...\n",
      "Validation Accuracy = 4.685\n",
      "\n",
      "EPOCH 4 ...\n",
      "Validation Accuracy = 4.749\n",
      "\n",
      "EPOCH 5 ...\n",
      "Validation Accuracy = 4.588\n",
      "\n",
      "EPOCH 6 ...\n",
      "Validation Accuracy = 4.277\n",
      "\n",
      "EPOCH 7 ...\n",
      "Validation Accuracy = 4.915\n",
      "\n",
      "EPOCH 8 ...\n",
      "Validation Accuracy = 4.695\n",
      "\n",
      "EPOCH 9 ...\n",
      "Validation Accuracy = 4.649\n",
      "\n",
      "EPOCH 10 ...\n",
      "Validation Accuracy = 4.884\n",
      "\n",
      "EPOCH 11 ...\n",
      "Validation Accuracy = 4.428\n",
      "\n",
      "EPOCH 12 ...\n",
      "Validation Accuracy = 4.420\n",
      "\n",
      "EPOCH 13 ...\n",
      "Validation Accuracy = 4.647\n",
      "\n",
      "EPOCH 14 ...\n",
      "Validation Accuracy = 5.022\n",
      "\n",
      "EPOCH 15 ...\n",
      "Validation Accuracy = 4.644\n",
      "\n",
      "EPOCH 16 ...\n",
      "Validation Accuracy = 4.680\n",
      "\n",
      "EPOCH 17 ...\n",
      "Validation Accuracy = 4.264\n",
      "\n",
      "EPOCH 18 ...\n",
      "Validation Accuracy = 4.904\n",
      "\n",
      "EPOCH 19 ...\n",
      "Validation Accuracy = 4.593\n",
      "\n",
      "EPOCH 20 ...\n",
      "Validation Accuracy = 4.565\n",
      "\n",
      "EPOCH 21 ...\n",
      "Validation Accuracy = 4.563\n",
      "\n",
      "EPOCH 22 ...\n",
      "Validation Accuracy = 4.333\n",
      "\n",
      "EPOCH 23 ...\n",
      "Validation Accuracy = 3.979\n",
      "\n",
      "EPOCH 24 ...\n",
      "Validation Accuracy = 4.290\n",
      "\n",
      "EPOCH 25 ...\n",
      "Validation Accuracy = 4.491\n",
      "\n",
      "EPOCH 26 ...\n",
      "Validation Accuracy = 4.417\n",
      "\n",
      "EPOCH 27 ...\n",
      "Validation Accuracy = 4.402\n",
      "\n",
      "EPOCH 28 ...\n",
      "Validation Accuracy = 4.048\n",
      "\n",
      "EPOCH 29 ...\n",
      "Validation Accuracy = 4.246\n",
      "\n",
      "EPOCH 30 ...\n",
      "Validation Accuracy = 4.277\n",
      "\n",
      "EPOCH 31 ...\n",
      "Validation Accuracy = 4.310\n",
      "\n",
      "EPOCH 32 ...\n",
      "Validation Accuracy = 4.433\n",
      "\n",
      "EPOCH 33 ...\n",
      "Validation Accuracy = 4.652\n",
      "\n",
      "EPOCH 34 ...\n",
      "Validation Accuracy = 4.838\n",
      "\n",
      "EPOCH 35 ...\n",
      "Validation Accuracy = 4.693\n",
      "\n",
      "EPOCH 36 ...\n",
      "Validation Accuracy = 4.575\n",
      "\n",
      "EPOCH 37 ...\n",
      "Validation Accuracy = 4.851\n",
      "\n",
      "EPOCH 38 ...\n",
      "Validation Accuracy = 4.456\n",
      "\n",
      "EPOCH 39 ...\n",
      "Validation Accuracy = 4.662\n",
      "\n",
      "EPOCH 40 ...\n",
      "Validation Accuracy = 4.586\n",
      "\n",
      "EPOCH 41 ...\n",
      "Validation Accuracy = 4.672\n",
      "\n",
      "EPOCH 42 ...\n",
      "Validation Accuracy = 4.282\n",
      "\n",
      "EPOCH 43 ...\n",
      "Validation Accuracy = 4.553\n",
      "\n",
      "EPOCH 44 ...\n",
      "Validation Accuracy = 4.649\n",
      "\n",
      "EPOCH 45 ...\n",
      "Validation Accuracy = 4.267\n",
      "\n",
      "EPOCH 46 ...\n",
      "Validation Accuracy = 4.310\n",
      "\n",
      "EPOCH 47 ...\n",
      "Validation Accuracy = 4.458\n",
      "\n",
      "EPOCH 48 ...\n",
      "Validation Accuracy = 4.828\n",
      "\n",
      "EPOCH 49 ...\n",
      "Validation Accuracy = 4.598\n",
      "\n",
      "EPOCH 50 ...\n",
      "Validation Accuracy = 4.463\n",
      "\n",
      "Model saved\n"
     ]
    }
   ],
   "source": [
    "from sklearn.utils import shuffle\n",
    "import tensorflow as tf\n",
    "with tf.Session() as sess:\n",
    "    sess.run(tf.global_variables_initializer())\n",
    "    num_examples = len(X_train)\n",
    "    print(\"Preprocessing Train Data...\")\n",
    "    print()\n",
    "    dp = DataPreprocessor()     \n",
    "    X_train = dp.preprocess_batch(X_train)\n",
    "    \n",
    "    print(\"Training Model...\")\n",
    "    print()\n",
    "    for i in range(EPOCHS):\n",
    "        X_train, y_train = shuffle(X_train, y_train)\n",
    "        for offset in range(0, num_examples, BATCH_SIZE):\n",
    "            end = offset + BATCH_SIZE\n",
    "            batch_x, batch_y = X_train[offset:end], y_train[offset:end]\n",
    "            accuracy = sess.run(training_operation, feed_dict={x: batch_x, y: batch_y})\n",
    "            \n",
    "        \n",
    "        validation_accuracy = evaluate(X_validation, y_validation)\n",
    "        print(\"EPOCH {} ...\".format(i+1))\n",
    "        print(\"Validation Accuracy = {:.3f}\".format(validation_accuracy *100))\n",
    "        print()\n",
    "        \n",
    "    saver.save(sess, './lenano')\n",
    "    print(\"Model saved\")"
   ]
  },
  {
   "cell_type": "markdown",
   "metadata": {},
   "source": [
    "### Question 4\n",
    "\n",
    "_How did you train your model? (Type of optimizer, batch size, epochs, hyperparameters, etc.)_\n"
   ]
  },
  {
   "cell_type": "markdown",
   "metadata": {},
   "source": [
    "**Answer:**\n",
    "Train library is wrapper around tensorflow methods to encapsulate all of the training procedures of the model in one single method called train_model. This method has the following attributes:\n",
    "\n",
    "1/ rate = 0.001\n",
    "2/ EPOCHS = 10\n",
    "3/ BATCH_SIZE = 128\n",
    "4/ Hyperparameters : \n",
    "    4.1/ Conv layer #1 \n",
    "            Number of filters = 128\n",
    "            filter size = (5,5)\n",
    "    4.2/ Relu Layer #1\n",
    "    4.3/ Flatten\n",
    "            \n",
    "    4.4/ FC 1024\n",
    "    4.5/ FC 1024\n",
    "    4.6/ FC 43\n",
    "            \n",
    "\n",
    "\n",
    "implement the following workflow :\n",
    "*/ Training data is drouped out using a parameter keep_prob = 0.5 for the validation training step and keep_prob=1.0 for the testing step\n",
    "*/ Training data is normalized and augmented\n",
    "*/for each batch of 128 examples, \n",
    "    */trained using an Adam optimizer because it uses Kingma and Ba's Adam algorithm to control the learning rate. Adam offers several advantages over the simple tf.train.GradientDescentOptimizer. http://stats.stackexchange.com/questions/184448/difference-between-gradientdescentoptimizer-and-adamoptimizer-tensorflow\n",
    "    \n",
    "    */Creates a validation dataset using 30% of the size of training dataset and the data augementer library. The advantages of this technique is taking a copy of each choosen training example and augment it which leads to not reduce the training dataset size. To do that for each epochs, the starting element of the validation dataset is calculated randomly.\n",
    "    */Validation accuracy is then calculated and displayed.\n",
    "    \n",
    "   "
   ]
  },
  {
   "cell_type": "markdown",
   "metadata": {},
   "source": [
    "### Question 5\n",
    "\n",
    "\n",
    "_What approach did you take in coming up with a solution to this problem? It may have been a process of trial and error, in which case, outline the steps you took to get to the final solution and why you chose those steps. Perhaps your solution involved an already well known implementation or architecture. In this case, discuss why you think this is suitable for the current problem._"
   ]
  },
  {
   "cell_type": "markdown",
   "metadata": {},
   "source": [
    "**Answer:**\n",
    "\n",
    "The approach taken to solve this problem is a derived architecture of LeNet. \n",
    "I tried first the following architecture : Conv/Relu/Pool/Relu/Conv/Relu/Pool/Relu/Flatten/FC/FC/FC. The results were poor after many attemps of tweaking the Hyperparamters accuracy was under 50% after many trials \n",
    "So i changed the network architecture by samplifying it. I kept only one conv layer and three FCs layers. I modify three times  the batch size until 150 which make the validation accuracy over 89% local minima with no stucking to. The final parameters are :\n",
    "learning rate = 0.001\n",
    "Batch size = 150\n",
    "Epochs = 100\n",
    "\n"
   ]
  },
  {
   "cell_type": "markdown",
   "metadata": {},
   "source": [
    "---\n",
    "\n",
    "## Step 3: Test a Model on New Images\n",
    "\n",
    "Take several pictures of traffic signs that you find on the web or around you (at least five), and run them through your classifier on your computer to produce example results. The classifier might not recognize some local signs but it could prove interesting nonetheless.\n",
    "\n",
    "You may find `signnames.csv` useful as it contains mappings from the class id (integer) to the actual sign name."
   ]
  },
  {
   "cell_type": "markdown",
   "metadata": {},
   "source": [
    "### Implementation\n",
    "\n",
    "Use the code cell (or multiple code cells, if necessary) to implement the first step of your project. Once you have completed your implementation and are satisfied with the results, be sure to thoroughly answer the questions that follow."
   ]
  },
  {
   "cell_type": "code",
   "execution_count": null,
   "metadata": {
    "collapsed": false
   },
   "outputs": [],
   "source": [
    "### Load the images and plot them here.\n",
    "### Feel free to use as many code cells as needed.\n",
    "import matplotlib.image as mpimg\n",
    "import matplotlib.pyplot as plt\n",
    "\n",
    "def load_images(path):\n",
    "\n",
    "    imgnames = ['01.jpg', '02.jpg', '03.jpg', '04.jpg', '05.jpg']\n",
    "\n",
    "    images = np.float32(np.zeros((10,32,32,3)))\n",
    "    \n",
    "    for idx,name in enumerate(imgnames):\n",
    "        image = mpimg.imread(path + name)\n",
    "        #image = image.resize((int(width),int(height)),Image.ANTIALIAS)\n",
    "        print(image.shape)\n",
    "        images[idx-1]=image\n",
    "        plt.imshow(image)\n",
    "        plt.show()\n",
    "    \n",
    "    #images =  np.array(images)\n",
    "    return images   \n",
    "    \n",
    "#images = load_images('images/')"
   ]
  },
  {
   "cell_type": "markdown",
   "metadata": {},
   "source": [
    "### Question 6\n",
    "\n",
    "_Choose five candidate images of traffic signs and provide them in the report. Are there any particular qualities of the image(s) that might make classification difficult? It could be helpful to plot the images in the notebook._\n",
    "\n"
   ]
  },
  {
   "cell_type": "markdown",
   "metadata": {},
   "source": [
    "**Answer:**\n"
   ]
  },
  {
   "cell_type": "code",
   "execution_count": null,
   "metadata": {
    "collapsed": false
   },
   "outputs": [],
   "source": [
    "## Run the predictions here.\n",
    "### Feel free to use as many code cells as needed.\n",
    "images = load_images('images/')\n",
    "print('images : ',images.shape)\n",
    "graph = tf.Graph()\n",
    "     \n",
    "        \n",
    "with tf.Session('', tf.Graph()) as sess:\n",
    "            sess.run(tf.global_variables_initializer())\n",
    "            saver = tf.train.import_meta_graph('./lenet.meta')\n",
    "            #saver.restore(sess, tf.train.latest_checkpoint('.'))\n",
    "            ckpt = str(tf.train.latest_checkpoint('.')) #tf.train.get_checkpoint_state('.')\n",
    "            print(ckpt)\n",
    "            if ckpt:\n",
    "                saver.restore(sess, ckpt)\n",
    "                print('Restored!')\n",
    "                x = tf.placeholder(tf.float32, (10,32, 32, 3))\n",
    "                keep_probe = tf.placeholder(tf.float32)\n",
    "                model = Model()\n",
    "                model.build(x,43,keep_probe)\n",
    "                prediction = tf.nn.softmax(model.logits)\n",
    "\n",
    "                with tf.Session() as session:\n",
    "                    new_predictions = session.run(prediction, feed_dict={x: images})\n",
    "                    top_k = session.run(tf.nn.top_k(new_predictions, 5, sorted=True))\n",
    "                    print(\"Predicted Labels\")\n",
    "                    print(np.argmax(new_predictions, 1))"
   ]
  },
  {
   "cell_type": "markdown",
   "metadata": {},
   "source": [
    "### Question 7\n",
    "\n",
    "_Is your model able to perform equally well on captured pictures when compared to testing on the dataset? The simplest way to do this check the accuracy of the predictions. For example, if the model predicted 1 out of 5 signs correctly, it's 20% accurate._\n",
    "\n",
    "_**NOTE:** You could check the accuracy manually by using `signnames.csv` (same directory). This file has a mapping from the class id (0-42) to the corresponding sign name. So, you could take the class id the model outputs, lookup the name in `signnames.csv` and see if it matches the sign from the image._\n"
   ]
  },
  {
   "cell_type": "markdown",
   "metadata": {},
   "source": [
    "**Answer:**"
   ]
  },
  {
   "cell_type": "code",
   "execution_count": null,
   "metadata": {
    "collapsed": true
   },
   "outputs": [],
   "source": [
    "### Visualize the softmax probabilities here.\n",
    "### Feel free to use as many code cells as needed."
   ]
  },
  {
   "cell_type": "markdown",
   "metadata": {},
   "source": [
    "### Question 8\n",
    "\n",
    "*Use the model's softmax probabilities to visualize the **certainty** of its predictions, [`tf.nn.top_k`](https://www.tensorflow.org/versions/r0.12/api_docs/python/nn.html#top_k) could prove helpful here. Which predictions is the model certain of? Uncertain? If the model was incorrect in its initial prediction, does the correct prediction appear in the top k? (k should be 5 at most)*\n",
    "\n",
    "`tf.nn.top_k` will return the values and indices (class ids) of the top k predictions. So if k=3, for each sign, it'll return the 3 largest probabilities (out of a possible 43) and the correspoding class ids.\n",
    "\n",
    "Take this numpy array as an example:\n",
    "\n",
    "```\n",
    "# (5, 6) array\n",
    "a = np.array([[ 0.24879643,  0.07032244,  0.12641572,  0.34763842,  0.07893497,\n",
    "         0.12789202],\n",
    "       [ 0.28086119,  0.27569815,  0.08594638,  0.0178669 ,  0.18063401,\n",
    "         0.15899337],\n",
    "       [ 0.26076848,  0.23664738,  0.08020603,  0.07001922,  0.1134371 ,\n",
    "         0.23892179],\n",
    "       [ 0.11943333,  0.29198961,  0.02605103,  0.26234032,  0.1351348 ,\n",
    "         0.16505091],\n",
    "       [ 0.09561176,  0.34396535,  0.0643941 ,  0.16240774,  0.24206137,\n",
    "         0.09155967]])\n",
    "```\n",
    "\n",
    "Running it through `sess.run(tf.nn.top_k(tf.constant(a), k=3))` produces:\n",
    "\n",
    "```\n",
    "TopKV2(values=array([[ 0.34763842,  0.24879643,  0.12789202],\n",
    "       [ 0.28086119,  0.27569815,  0.18063401],\n",
    "       [ 0.26076848,  0.23892179,  0.23664738],\n",
    "       [ 0.29198961,  0.26234032,  0.16505091],\n",
    "       [ 0.34396535,  0.24206137,  0.16240774]]), indices=array([[3, 0, 5],\n",
    "       [0, 1, 4],\n",
    "       [0, 5, 1],\n",
    "       [1, 3, 5],\n",
    "       [1, 4, 3]], dtype=int32))\n",
    "```\n",
    "\n",
    "Looking just at the first row we get `[ 0.34763842,  0.24879643,  0.12789202]`, you can confirm these are the 3 largest probabilities in `a`. You'll also notice `[3, 0, 5]` are the corresponding indices."
   ]
  },
  {
   "cell_type": "markdown",
   "metadata": {},
   "source": [
    "**Answer:**"
   ]
  },
  {
   "cell_type": "markdown",
   "metadata": {},
   "source": [
    "> **Note**: Once you have completed all of the code implementations and successfully answered each question above, you may finalize your work by exporting the iPython Notebook as an HTML document. You can do this by using the menu above and navigating to  \\n\",\n",
    "    \"**File -> Download as -> HTML (.html)**. Include the finished document along with this notebook as your submission."
   ]
  },
  {
   "cell_type": "code",
   "execution_count": null,
   "metadata": {
    "collapsed": true
   },
   "outputs": [],
   "source": []
  }
 ],
 "metadata": {
  "anaconda-cloud": {},
  "kernelspec": {
   "display_name": "Python 3",
   "language": "python",
   "name": "python3"
  },
  "language_info": {
   "codemirror_mode": {
    "name": "ipython",
    "version": 3
   },
   "file_extension": ".py",
   "mimetype": "text/x-python",
   "name": "python",
   "nbconvert_exporter": "python",
   "pygments_lexer": "ipython3",
   "version": "3.5.2"
  },
  "widgets": {
   "state": {},
   "version": "1.1.2"
  }
 },
 "nbformat": 4,
 "nbformat_minor": 1
}
