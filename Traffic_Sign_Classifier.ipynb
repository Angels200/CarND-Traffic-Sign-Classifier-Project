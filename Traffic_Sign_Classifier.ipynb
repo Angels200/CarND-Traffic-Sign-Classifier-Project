{
 "cells": [
  {
   "cell_type": "markdown",
   "metadata": {},
   "source": [
    "# Self-Driving Car Engineer Nanodegree\n",
    "\n",
    "## Deep Learning\n",
    "\n",
    "## Project: Build a Traffic Sign Recognition Classifier\n",
    "\n",
    "In this notebook, a template is provided for you to implement your functionality in stages which is required to successfully complete this project. If additional code is required that cannot be included in the notebook, be sure that the Python code is successfully imported and included in your submission, if necessary. Sections that begin with **'Implementation'** in the header indicate where you should begin your implementation for your project. Note that some sections of implementation are optional, and will be marked with **'Optional'** in the header.\n",
    "\n",
    "In addition to implementing code, there will be questions that you must answer which relate to the project and your implementation. Each section where you will answer a question is preceded by a **'Question'** header. Carefully read each question and provide thorough answers in the following text boxes that begin with **'Answer:'**. Your project submission will be evaluated based on your answers to each of the questions and the implementation you provide.\n",
    "\n",
    ">**Note:** Code and Markdown cells can be executed using the **Shift + Enter** keyboard shortcut. In addition, Markdown cells can be edited by typically double-clicking the cell to enter edit mode."
   ]
  },
  {
   "cell_type": "markdown",
   "metadata": {},
   "source": [
    "---\n",
    "## Step 0: Load The Data"
   ]
  },
  {
   "cell_type": "code",
   "execution_count": 309,
   "metadata": {
    "collapsed": true
   },
   "outputs": [],
   "source": [
    "# Load pickled data\n",
    "import pickle\n",
    "\n",
    "# TODO: Fill this in based on where you saved the training and testing data\n",
    "\n",
    "training_file = 'train.p'\n",
    "testing_file = 'test.p'\n",
    "\n",
    "with open(training_file, mode='rb') as f:\n",
    "    train = pickle.load(f)\n",
    "with open(testing_file, mode='rb') as f:\n",
    "    test = pickle.load(f)\n",
    "    \n",
    "X_train, y_train = train['features'], train['labels']\n",
    "X_test, y_test = test['features'], test['labels']"
   ]
  },
  {
   "cell_type": "markdown",
   "metadata": {},
   "source": [
    "---\n",
    "\n",
    "## Step 1: Dataset Summary & Exploration\n",
    "\n",
    "The pickled data is a dictionary with 4 key/value pairs:\n",
    "\n",
    "- `'features'` is a 4D array containing raw pixel data of the traffic sign images, (num examples, width, height, channels).\n",
    "- `'labels'` is a 2D array containing the label/class id of the traffic sign. The file `signnames.csv` contains id -> name mappings for each id.\n",
    "- `'sizes'` is a list containing tuples, (width, height) representing the the original width and height the image.\n",
    "- `'coords'` is a list containing tuples, (x1, y1, x2, y2) representing coordinates of a bounding box around the sign in the image. **THESE COORDINATES ASSUME THE ORIGINAL IMAGE. THE PICKLED DATA CONTAINS RESIZED VERSIONS (32 by 32) OF THESE IMAGES**\n",
    "\n",
    "Complete the basic data summary below."
   ]
  },
  {
   "cell_type": "code",
   "execution_count": 310,
   "metadata": {
    "collapsed": false
   },
   "outputs": [
    {
     "name": "stdout",
     "output_type": "stream",
     "text": [
      "Number of training examples = 39209\n",
      "Number of testing examples = 12630\n",
      "Image data shape = (32, 32, 3)\n",
      "Number of classes = 43\n"
     ]
    }
   ],
   "source": [
    "### Replace each question mark with the appropriate value.\n",
    "import numpy as np\n",
    "# TODO: Number of training examples\n",
    "n_train = X_train.shape[0]\n",
    "\n",
    "# TODO: Number of testing examples.\n",
    "n_test = X_test.shape[0]\n",
    "\n",
    "# TODO: What's the shape of an traffic sign image?\n",
    "image_shape = (X_train.shape[1],X_train.shape[2],X_train.shape[3])\n",
    "\n",
    "# TODO: How many unique classes/labels there are in the dataset.\n",
    "n_classes = np.unique(y_train).size\n",
    "\n",
    "print(\"Number of training examples =\", n_train)\n",
    "print(\"Number of testing examples =\", n_test)\n",
    "print(\"Image data shape =\", image_shape)\n",
    "print(\"Number of classes =\", n_classes)"
   ]
  },
  {
   "cell_type": "markdown",
   "metadata": {},
   "source": [
    "Visualize the German Traffic Signs Dataset using the pickled file(s). This is open ended, suggestions include: plotting traffic sign images, plotting the count of each sign, etc.\n",
    "\n",
    "The [Matplotlib](http://matplotlib.org/) [examples](http://matplotlib.org/examples/index.html) and [gallery](http://matplotlib.org/gallery.html) pages are a great resource for doing visualizations in Python.\n",
    "\n",
    "**NOTE:** It's recommended you start with something simple first. If you wish to do more, come back to it after you've completed the rest of the sections."
   ]
  },
  {
   "cell_type": "code",
   "execution_count": 311,
   "metadata": {
    "collapsed": false
   },
   "outputs": [],
   "source": [
    "### Data exploration visualization goes here.\n",
    "### Feel free to use as many code cells as needed.\n",
    "import matplotlib.pyplot as plt\n",
    "import random\n",
    "# Visualizations will be shown in the notebook.\n",
    "%matplotlib inline\n",
    "\n",
    "def visualize(X_train, y_train) :\n",
    "        indx = np.arange(y_train.shape[0])\n",
    "        np.random.shuffle(indx)\n",
    "        # create subplot and fill with images\n",
    "        f, e = plt.subplots(10, 3)\n",
    "        for i in range(10):\n",
    "            for j in range(3):\n",
    "                e[i, j].imshow(X_train[indx[j+10*i]])\n",
    "                plt.setp(e[i,j].get_xticklabels(), visible=False)\n",
    "                plt.setp(e[i,j].get_yticklabels(), visible=False)\n",
    "        plt.show()\n",
    "        \n",
    "#visualize(X_train, y_train)\n"
   ]
  },
  {
   "cell_type": "code",
   "execution_count": 312,
   "metadata": {
    "collapsed": false
   },
   "outputs": [],
   "source": [
    "   \n",
    "def visualize_distribution(y_test, y_train):\n",
    "    plt.figure(1)\n",
    "    n, bins, patches = plt.hist(y_train, 70, facecolor='green', alpha=0.75)\n",
    "\n",
    "    plt.xlabel('Train Label Classes')\n",
    "    plt.ylabel('Train Label Samples Number')\n",
    "    plt.title('Training Samples Distribution')\n",
    "    plt.grid(True)\n",
    "\n",
    "    plt.figure(2)\n",
    "    n, bins, patches = plt.hist(y_test,70, facecolor='green', alpha=0.75)\n",
    "\n",
    "    plt.xlabel('Test Label Classes')\n",
    "    plt.ylabel('Test Label Samples Number')\n",
    "    plt.title('Test Samples Distribution')\n",
    "    plt.grid(True)\n",
    "    plt.show()\n",
    "    \n",
    "#visualize_distribution(y_test, y_train)\n"
   ]
  },
  {
   "cell_type": "markdown",
   "metadata": {},
   "source": [
    "----\n",
    "\n",
    "## Step 2: Design and Test a Model Architecture\n",
    "\n",
    "Design and implement a deep learning model that learns to recognize traffic signs. Train and test your model on the [German Traffic Sign Dataset](http://benchmark.ini.rub.de/?section=gtsrb&subsection=dataset).\n",
    "\n",
    "There are various aspects to consider when thinking about this problem:\n",
    "\n",
    "- Neural network architecture\n",
    "- Play around preprocessing techniques (normalization, rgb to grayscale, etc)\n",
    "- Number of examples per label (some have more than others).\n",
    "- Generate fake data.\n",
    "\n",
    "Here is an example of a [published baseline model on this problem](http://yann.lecun.com/exdb/publis/pdf/sermanet-ijcnn-11.pdf). It's not required to be familiar with the approach used in the paper but, it's good practice to try to read papers like these.\n",
    "\n",
    "**NOTE:** The LeNet-5 implementation shown in the [classroom](https://classroom.udacity.com/nanodegrees/nd013/parts/fbf77062-5703-404e-b60c-95b78b2f3f9e/modules/6df7ae49-c61c-4bb2-a23e-6527e69209ec/lessons/601ae704-1035-4287-8b11-e2c2716217ad/concepts/d4aca031-508f-4e0b-b493-e7b706120f81) at the end of the CNN lesson is a solid starting point. You'll have to change the number of classes and possibly the preprocessing, but aside from that it's plug and play!"
   ]
  },
  {
   "cell_type": "markdown",
   "metadata": {},
   "source": [
    "### Implementation\n",
    "\n",
    "Use the code cell (or multiple code cells, if necessary) to implement the first step of your project. Once you have completed your implementation and are satisfied with the results, be sure to thoroughly answer the questions that follow."
   ]
  },
  {
   "cell_type": "code",
   "execution_count": 313,
   "metadata": {
    "collapsed": false
   },
   "outputs": [],
   "source": [
    "from skimage import exposure, color\n",
    "import cv2\n",
    "import time\n",
    "from tqdm import tqdm\n",
    "\n",
    "class DataPreprocessor(object) :\n",
    "    \n",
    "    def simple_rescale(self,image):\n",
    "        image = ((image / 255. )* 0.8)+ 0.1\n",
    "        return image\n",
    "\n",
    "    def mean_substract(self,image):\n",
    "        #np.mean(images, axis = 0,dtype=np.uint8)\n",
    "        image -= np.mean(image, axis = 0,dtype=np.uint8)\n",
    "        return image\n",
    "\n",
    "    def feature_standardization(self, image):\n",
    "        image = image / np.std(image, axis = 0)\n",
    "        return image\n",
    "\n",
    "    def exposure(self,image):\n",
    "        return exposure.equalize_adapthist(image)\n",
    "   \n",
    "    def gray(self, image):\n",
    "        return color.rgb2gray(image)#, cv2.COLOR_BGR2GRAY)\n",
    "\n",
    "    def preprocess(self,image):\n",
    "        #image = substract_noise(image)\n",
    "        imag = self.gray(image)\n",
    "        #image = self.simple_rescale(image)\n",
    "        #image = self.mean_substract(image)\n",
    "        #image = self.exposure(image)\n",
    "        return imag\n",
    "\n",
    "\n",
    "    def preprocess_batch(self,images):\n",
    "        #imgs = np.copy(images)\n",
    "        imgs=[]\n",
    "        print('image shape : ',images[0].shape)\n",
    "        for i in tqdm(range(images.shape[0])):\n",
    "            #imgs[i] = self.preprocess(images[i])\n",
    "            imgs.append(self.preprocess(images[i]))\n",
    "        return np.asarray(imgs).reshape(images.shape[0],images.shape[1],images.shape[2])\n",
    "    '''\n",
    "    def preprocess_batch(self,X):\n",
    "        #Convert to grayscale, e.g. single Y channel\n",
    "        X = 0.299 * X[:, :, :, 0] + 0.587 * X[:, :, :, 1] + 0.114 * X[:, :, :, 2]\n",
    "        #Scale features to be in [0, 1]\n",
    "        X = (X / 255.).astype(np.float32)\n",
    "\n",
    "        # Apply localized histogram localization  \n",
    "        for i in tqdm(range(X.shape[0])):\n",
    "            X[i] = exposure.equalize_adapthist(X[i])\n",
    "        \n",
    "        # Add a single grayscale channel\n",
    "        X = X.reshape(X.shape + (1,)) \n",
    "        return X\n",
    "    '''"
   ]
  },
  {
   "cell_type": "code",
   "execution_count": 314,
   "metadata": {
    "collapsed": false
   },
   "outputs": [
    {
     "data": {
      "text/plain": [
       "'\\nplt.figure(1)\\nplt.imshow(X_test[549])\\ndp = DataPreprocessor()\\nX_test = dp.preprocess_batch(X_test)\\nprint(X_test.shape)\\nplt.figure(2)\\nplt.imshow(X_test[549])\\nplt.show()\\n#X_test = dp.preprocess_batch(X_test)\\n'"
      ]
     },
     "execution_count": 314,
     "metadata": {},
     "output_type": "execute_result"
    }
   ],
   "source": [
    "import matplotlib.pyplot as plt\n",
    "# Test preprocessing algorithm on one image\n",
    "'''\n",
    "plt.figure(1)\n",
    "plt.imshow(X_test[549])\n",
    "dp = DataPreprocessor()\n",
    "X_test = dp.preprocess_batch(X_test)\n",
    "print(X_test.shape)\n",
    "plt.figure(2)\n",
    "plt.imshow(X_test[549])\n",
    "plt.show()\n",
    "#X_test = dp.preprocess_batch(X_test)\n",
    "'''\n"
   ]
  },
  {
   "cell_type": "markdown",
   "metadata": {},
   "source": [
    "### Question 1 \n",
    "\n",
    "_Describe how you preprocessed the data. Why did you choose that technique?_"
   ]
  },
  {
   "cell_type": "markdown",
   "metadata": {},
   "source": [
    "**Answer:**"
   ]
  },
  {
   "cell_type": "markdown",
   "metadata": {},
   "source": [
    "# Data Preprocessing\n",
    "\n",
    "The preprocess stage aims to :\n",
    "  1.Normalize data\n",
    "\n",
    "1.Data Normalization : in order to make the learning process performing better. The CNN learns its weights by adding gradient error vectors multiplied by the learning rate computed from backprop to weight matrices as the training process is running. so we end up with the following equation :\n",
    "W = W + (learningrate * gradient descent)\n",
    "\n",
    "Initial conditions : At the begining of the learning process, the input features values distributions are different for each one (feature). Thus the learning rate would correct in each dimension from one another. it might be over compensating a correction in one weight dimension while undercompensating in another.\n",
    "\n",
    "The gradient descent find itself oscillating and unable to center or moving slowly  onto a better minima. So therefore, to reach a better minima and avoiding the oscillation (see above)  we need to normalize the input features values.\n",
    "\n",
    "The scenario for preprocessing dataset is based on dataset normalization using three following methods to compare the average error (%) for each (http://ijssst.info/Vol-15/No-2/data/3251a024.pdf §IV. RESULTS AND DISCUSSIONS.)\n",
    "\n",
    "The methods are :\n",
    "    1.Simple Rescale\n",
    "    2.Substract Mean \n",
    "    \n",
    "\n",
    "\n",
    "Each normalization methods is implemented by a \"normalized\" pipeline (see \"class DataPreProcessor\" bellow).\n",
    "The normalization is part of the preprocess stage and should be applied after the Data augmentation stage (see later \"class DataAugmenter\") if exists.\n",
    "\n",
    "\n"
   ]
  },
  {
   "cell_type": "code",
   "execution_count": 315,
   "metadata": {
    "collapsed": false
   },
   "outputs": [],
   "source": [
    "#apply_preprocessing(X_train, y_train,True) "
   ]
  },
  {
   "cell_type": "markdown",
   "metadata": {},
   "source": [
    "### Question 2\n",
    "\n",
    "_Describe how you set up the training, validation and testing data for your model. **Optional**: If you generated additional data, how did you generate the data? Why did you generate the data? What are the differences in the new dataset (with generated data) from the original dataset?_"
   ]
  },
  {
   "cell_type": "markdown",
   "metadata": {},
   "source": [
    "**Answer:**"
   ]
  },
  {
   "cell_type": "markdown",
   "metadata": {},
   "source": [
    "# Data Augmentation and Spliting\n",
    "\n",
    "Data augmentation is done to artificially increase the size of the dataset. Various affine transformations are applied to slightly perturb each image so that the network will receive a different variation of each image on every iteration.\n",
    "\n",
    "Random rotations between -10 and 10 degrees.\n",
    "Random translation between -10 and 10 pixels in any direction.\n",
    "Random zoom between factors of 1 and 1.3.\n",
    "Random shearing between -25 and 25 degrees.\n",
    "Bool choice to invert colors.\n",
    "Sobel edge detector applied to 1/4 of images.\n"
   ]
  },
  {
   "cell_type": "code",
   "execution_count": 316,
   "metadata": {
    "collapsed": false
   },
   "outputs": [],
   "source": [
    "from skimage import transform, filters, exposure, img_as_float\n",
    "from skimage.transform import rescale\n",
    "from random import randint,uniform\n",
    "import cv2\n",
    "\n",
    "class DataAugmenter(object):\n",
    "    def fast_warp(self, img, tf, output_shape, mode='wrap'):\n",
    "        return transform._warps_cy._warp_fast(img, tf.params,\n",
    "                                          output_shape=output_shape, mode=mode)\n",
    "\n",
    "    def augment(self,images):\n",
    "        # set empty copy to hold augmented images so that we don't overwrite\n",
    "        #print(images.shape)\n",
    "        #print(images[1][:,:][:,:])\n",
    "        images_aug = np.empty(shape = (images.shape[0], images.shape[1],images.shape[2],images.shape[3]),\n",
    "                               dtype = 'float32')\n",
    "        print(images_aug[0].shape)\n",
    "\n",
    "        # random rotations betweein -10 and 10 degrees\n",
    "        dorotate = randint(-10,10)\n",
    "\n",
    "        # random translations\n",
    "        trans_1 = randint(-10,10)\n",
    "        trans_2 = randint(-10,10)\n",
    "\n",
    "        # random zooms\n",
    "        zoom = uniform(1, 1.3)\n",
    "\n",
    "        # shearing\n",
    "        shear_deg = uniform(-25, 25)\n",
    "\n",
    "        # set the transform parameters for skimage.transform.warp\n",
    "        # have to shift to center and then shift back after transformation otherwise\n",
    "        # rotations will make image go out of frame\n",
    "        center_shift   = np.array((32, 32)) / 2. - 0.5\n",
    "        tform_center   = transform.SimilarityTransform(translation=-center_shift)\n",
    "        tform_uncenter = transform.SimilarityTransform(translation=center_shift)\n",
    "\n",
    "        tform_aug = transform.AffineTransform(rotation = np.deg2rad(dorotate),\n",
    "                                              scale =(1/zoom, 1/zoom),\n",
    "                                              shear = np.deg2rad(shear_deg),\n",
    "                                              translation = (trans_1, trans_2))\n",
    "\n",
    "        #tform = tform_center + tform_aug + tform_uncenter\n",
    "\n",
    "        #output = numpy.empty(images.shape[1],images.shape[2],images.shape[3]),dtype=numpy.float32)\n",
    "        tform = tform_aug \n",
    "\n",
    "        \n",
    "        for j in range(images.shape[0]):\n",
    "            for channel in range(images.shape[3]):\n",
    "                images_aug[j][:, :,channel] = self.fast_warp(\n",
    "                                                    images[j][:, :,channel],\n",
    "                                                    tform,\n",
    "                                                    output_shape=(images.shape[1],images.shape[2],images.shape[3]))\n",
    "        \n",
    "        \n",
    "        '''\n",
    "        # use sobel edge detector filter on one quarter of the images\n",
    "        indices_sobel = np.random.choice(images_aug.shape[0],\n",
    "                                         images_aug.shape[0] / 4, replace = False)\n",
    "        for k in indices_sobel:\n",
    "            for channel in range(images.shape[3]):\n",
    "                print(rescale(images_aug[k][:, :,channel],.5))\n",
    "                images_aug[k][:, :,channel] = filters.sobel(rescale(images_aug[k][:, :,channel],.5))\n",
    "        \n",
    "        # invert half of the images\n",
    "        indices_invert = np.random.choice(images_aug.shape[0],\n",
    "                                          images_aug.shape[0] / 2, replace = False)\n",
    "        for l in indices_invert:\n",
    "            for channel in range(images.shape[3]):\n",
    "                img = images_aug[l][:, :,channel]\n",
    "                images_aug[l][:, :,channel] = np.absolute(img - np.amax(img))\n",
    "         '''   \n",
    "        return images_aug\n",
    "    \n",
    "    def augment_batch(self,images,effect):\n",
    "        #images_aug = np.empty(shape = (images.shape[0], images.shape[1],images.shape[2],images.shape[3]),\n",
    "        #                      dtype = 'float32')\n",
    "        \n",
    "        \n",
    "        imgs = []\n",
    "        for image in images :\n",
    "            img = self.transform_image(image,30,5,5)\n",
    "            imgs.append(img)# use sobel edge detector filter on one quarter of the images\n",
    "        \n",
    "        \n",
    "        '''\n",
    "        images_aug = np.asarray(imgs)\n",
    "        print(images_aug.shape)\n",
    "        indices_sobel = np.random.choice(images_aug.shape[0],\n",
    "                                         images_aug.shape[0] / 4, replace = False)\n",
    "        for k in indices_sobel:\n",
    "        '''\n",
    "        images_aug = np.asarray(imgs)\n",
    "        print(images_aug.shape)\n",
    "        if effect=='soble':\n",
    "            for k in range(images_aug.shape[0]):\n",
    "                #print(rescale(images_aug[k][:, :,channel],.5))\n",
    "                images_aug[k][:, :] = filters.sobel(images_aug[k][:, :])\n",
    "            \n",
    "        '''\n",
    "        indices_sobel = np.random.choice(images_aug.shape[0],\n",
    "                                         images_aug.shape[0] / 4, replace = False)\n",
    "        \n",
    "        for k in indices_sobel:\n",
    "            #print(rescale(images_aug[k][:, :,channel],.5))\n",
    "            images_aug[k][:, :] = filters.sobel(images_aug[k][:, :])\n",
    "        \n",
    "        # invert half of the images\n",
    "        indices_invert = np.random.choice(images_aug.shape[0],\n",
    "                                          images_aug.shape[0] / 2, replace = False)\n",
    "        for l in indices_invert:\n",
    "        '''\n",
    "        if effect=='invert':\n",
    "            for l in range(images_aug.shape[0]):\n",
    "                images_aug[l][:, :] = np.absolute(images_aug[l][:, :] - np.amax(img))\n",
    "        \n",
    "        return  np.asarray(images_aug).reshape(images.shape[0],images.shape[1],images.shape[2])\n",
    "        \n",
    "    def transform_image(self,image,ang_range,shear_range,trans_range):\n",
    "\n",
    "        # Rotation\n",
    "\n",
    "        ang_rot = np.random.uniform(ang_range)-ang_range/2\n",
    "        rows = image.shape[0]\n",
    "        cols = image.shape[1]\n",
    "        #ch = image.shape[2]\n",
    "        Rot_M = cv2.getRotationMatrix2D((cols/2,rows/2),ang_rot,1)\n",
    "\n",
    "        # Translation\n",
    "        tr_x = trans_range*np.random.uniform()-trans_range/2\n",
    "        tr_y = trans_range*np.random.uniform()-trans_range/2\n",
    "        Trans_M = np.float32([[1,0,tr_x],[0,1,tr_y]])\n",
    "\n",
    "        # Shear\n",
    "        pts1 = np.float32([[5,5],[20,5],[5,20]])\n",
    "\n",
    "        pt1 = 5+shear_range*np.random.uniform()-shear_range/2\n",
    "        pt2 = 20+shear_range*np.random.uniform()-shear_range/2\n",
    "\n",
    "        pts2 = np.float32([[pt1,5],[pt2,pt1],[5,pt2]])\n",
    "\n",
    "        shear_M = cv2.getAffineTransform(pts1,pts2)\n",
    "\n",
    "        image = cv2.warpAffine(image,Rot_M,(cols,rows))\n",
    "        image = cv2.warpAffine(image,Trans_M,(cols,rows))\n",
    "        image = cv2.warpAffine(image,shear_M,(cols,rows))\n",
    "\n",
    "        #image = pre_process_image(image)\n",
    "\n",
    "        #image = cv2.cvtColor(image, cv2.COLOR_BGR2YUV)\n",
    "        #image = image[:,:,0]\n",
    "        #image = cv2.resize(image, (img_resize,img_resize),interpolation = cv2.INTER_CUBIC)\n",
    "\n",
    "        return image"
   ]
  },
  {
   "cell_type": "code",
   "execution_count": 317,
   "metadata": {
    "collapsed": false
   },
   "outputs": [
    {
     "data": {
      "text/plain": [
       "'\\nfrom skimage import transform, filters,color\\nplt.figure(1)\\nplt.imshow(X_train[1312])\\nimage = color.rgb2gray(X_train[1312])#, cv2.COLOR_BGR2GRAY)\\nplt.figure(2)\\nplt.imshow(image)\\nimage = filters.sobel(image)\\nplt.figure(3)\\nplt.imshow(image)\\nplt.show()\\n'"
      ]
     },
     "execution_count": 317,
     "metadata": {},
     "output_type": "execute_result"
    }
   ],
   "source": [
    "#from itertools import groupby\n",
    "#label_per_class = np.array([(k,len(list(v))) for k,v in groupby(y_train)])\n",
    "#print(label_per_class)\n",
    "'''\n",
    "from skimage import transform, filters,color\n",
    "plt.figure(1)\n",
    "plt.imshow(X_train[1312])\n",
    "image = color.rgb2gray(X_train[1312])#, cv2.COLOR_BGR2GRAY)\n",
    "plt.figure(2)\n",
    "plt.imshow(image)\n",
    "image = filters.sobel(image)\n",
    "plt.figure(3)\n",
    "plt.imshow(image)\n",
    "plt.show()\n",
    "'''"
   ]
  },
  {
   "cell_type": "code",
   "execution_count": 318,
   "metadata": {
    "collapsed": false
   },
   "outputs": [],
   "source": [
    "### Define your architecture here.\n",
    "### Feel free to use as many code cells as needed.\n",
    "\n",
    "def augment(X_train, y_train):\n",
    "    da = DataAugmenter()\n",
    "    #X_valid = da.augment(X_train)\n",
    "    X_valid = da.augment_batch(X_train,'sobel')\n",
    "    y_valid = y_train\n",
    "    plt.figure(figsize=(1,1))\n",
    "    plt.imshow(X_train[1312],cmap=\"gray\")\n",
    "    plt.figure(figsize=(1,1))\n",
    "    plt.imshow(X_valid[1312],cmap=\"gray\")\n",
    "    plt.show()\n",
    "    X_valid = np.concatenate((X_train,X_valid),axis=0)\n",
    "    y_valid = np.concatenate((y_train,y_valid),axis=0)\n",
    "    \n",
    "    X_valid2 = da.augment_batch(X_train,'invert')\n",
    "    X_valid2 = np.concatenate((X_valid,X_valid2),axis=0)\n",
    "    y_valid = np.concatenate((y_valid,y_train),axis=0)\n",
    "    return X_valid2,y_valid\n",
    "#X_train, y_train = augment(X_train, y_train)"
   ]
  },
  {
   "cell_type": "code",
   "execution_count": 319,
   "metadata": {
    "collapsed": false
   },
   "outputs": [],
   "source": [
    "from sklearn.cross_validation import train_test_split\n",
    "# We will use 80% for training and 20% for validation\n",
    "def split_data(x, y):\n",
    "    data_train, data_valid, labels_train, labels_valid = train_test_split(x, y, test_size=0.20, random_state=42)\n",
    "    print(\"Shape of training examples = \", data_train.shape)\n",
    "    print(\"Shape of validation examples = \", data_valid.shape)\n",
    "    return data_train, data_valid, labels_train, labels_valid\n",
    "\n",
    "#X_train, X_validation, y_train, y_validation = split_data(X_train, y_train)"
   ]
  },
  {
   "cell_type": "code",
   "execution_count": 320,
   "metadata": {
    "collapsed": false
   },
   "outputs": [
    {
     "data": {
      "text/plain": [
       "\"\\ntrain_one_hot_labels = (np.arange(n_classes) == y_train[:,None]).astype(np.float32)\\nvalid_one_hot_labels = (np.arange(n_classes) == y_validation[:,None]).astype(np.float32)\\ntest_one_hot_labels = (np.arange(n_classes) == y_test[:,None]).astype(np.float32)\\n\\n\\nprint('Training set', X_train.shape, train_one_hot_labels.shape)\\nprint('Validation set', X_validation.shape, valid_one_hot_labels.shape)\\nprint('Test set', X_test.shape, test_one_hot_labels.shape)\\n\""
      ]
     },
     "execution_count": 320,
     "metadata": {},
     "output_type": "execute_result"
    }
   ],
   "source": [
    "import tensorflow as tf\n",
    "def accuracy(predictions, labels):\n",
    "      return (100.0 * np.sum(np.argmax(predictions, 1) == np.argmax(labels, 1))/ predictions.shape[0])\n",
    "\n",
    "#X_validation, y_validation = augment(X_train, y_train)\n",
    "'''\n",
    "train_one_hot_labels = (np.arange(n_classes) == y_train[:,None]).astype(np.float32)\n",
    "valid_one_hot_labels = (np.arange(n_classes) == y_validation[:,None]).astype(np.float32)\n",
    "test_one_hot_labels = (np.arange(n_classes) == y_test[:,None]).astype(np.float32)\n",
    "\n",
    "\n",
    "print('Training set', X_train.shape, train_one_hot_labels.shape)\n",
    "print('Validation set', X_validation.shape, valid_one_hot_labels.shape)\n",
    "print('Test set', X_test.shape, test_one_hot_labels.shape)\n",
    "'''"
   ]
  },
  {
   "cell_type": "markdown",
   "metadata": {},
   "source": [
    "### Question 3\n",
    "\n",
    "_What does your final architecture look like? (Type of model, layers, sizes, connectivity, etc.)  For reference on how to build a deep neural network using TensorFlow, see [Deep Neural Network in TensorFlow\n",
    "](https://classroom.udacity.com/nanodegrees/nd013/parts/fbf77062-5703-404e-b60c-95b78b2f3f9e/modules/6df7ae49-c61c-4bb2-a23e-6527e69209ec/lessons/b516a270-8600-4f93-a0a3-20dfeabe5da6/concepts/83a3a2a2-a9bd-4b7b-95b0-eb924ab14432) from the classroom._\n"
   ]
  },
  {
   "cell_type": "markdown",
   "metadata": {},
   "source": [
    "**Answer:**"
   ]
  },
  {
   "cell_type": "markdown",
   "metadata": {},
   "source": [
    "My model is based LeNet Lab as starting architecture and after many trails i updated it with more layers:\n",
    "1/Convolutional Layer Input = 32x32x1 (3 channels), stride=1, filter=(5,5,1,32), Output = 28x28x32\n",
    "2/Activation Layer \n",
    "3/Pooling Layer Input = 28x28x10, stride=1, kernel=(1,2,2,1), Output = 14x14x32\n",
    "4/Convolutional Layer Input = 14x14x10, stride=(1, 1, 1, 1), filter=(5, 5, 32, 64) Output = 10x10x64\n",
    "5/Activation Layer \n",
    "4/Convolutional Layer Input = 10x10,64 stride=(1, 1, 1, 1), filter=(5, 5, 64, 128) Output = 6x6x128\n",
    "6/Activation Layer \n",
    "7/Flatten input = 6x6x128, output = 4608\n",
    "8/Fully Connected with added dropout input = 4608, output = 1024\n",
    "9/Activation \n",
    "10/Fully Connected with added dropout Layer input = 1024, output = 43\n",
    "\n"
   ]
  },
  {
   "cell_type": "code",
   "execution_count": 321,
   "metadata": {
    "collapsed": true
   },
   "outputs": [],
   "source": [
    "from tensorflow.contrib.layers import flatten\n",
    "\n",
    "def LeNet2(x):    \n",
    "    # Arguments used for tf.truncated_normal, randomly defines variables for the weights and biases for each layer\n",
    "    mu = 0\n",
    "    sigma = 0.1\n",
    "    \n",
    "    # SOLUTION: Layer 0: Convolutional. Input = 32x32x1. Output = 32x32x3.\n",
    "    #conv0_W = tf.Variable(tf.truncated_normal(shape=(1, 1, 3, 3), mean = mu, stddev = sigma))\n",
    "    #conv0_b = tf.Variable(tf.zeros(3))\n",
    "    #conv0   = tf.nn.conv2d(x, conv0_W, strides=[1, 1, 1, 1], padding='VALID') + conv0_b\n",
    "\n",
    "    # SOLUTION: Layer 1: Convolutional. Input = 32x32x3. Output = 28x28x32.\n",
    "    conv1_W = tf.Variable(tf.truncated_normal(shape=(5, 5, 1, 32), mean = mu, stddev = sigma))\n",
    "    conv1_b = tf.Variable(tf.zeros(32))\n",
    "    conv1   = tf.nn.conv2d(x, conv1_W, strides=[1, 1, 1, 1], padding='VALID') + conv1_b\n",
    "\n",
    "    # SOLUTION: Activation.\n",
    "    conv1 = tf.nn.relu(conv1)\n",
    "\n",
    "    # SOLUTION: Pooling. Input = 28x28x32. Output = 14x14x32.\n",
    "    conv1 = tf.nn.max_pool(conv1, ksize=[1, 2, 2, 1], strides=[1, 2, 2, 1], padding='VALID')\n",
    "    conv1 = tf.nn.dropout(conv1, 0.5)\n",
    "  \n",
    "    # SOLUTION: Layer 2: Convolutional. Input = 14x14x32. Output = 10x10x64.\n",
    "    conv2_W = tf.Variable(tf.truncated_normal(shape=(5, 5, 32, 64), mean = mu, stddev = sigma))\n",
    "    conv2_b = tf.Variable(tf.zeros(64))\n",
    "    conv2   = tf.nn.conv2d(conv1, conv2_W, strides=[1, 1, 1, 1], padding='VALID') + conv2_b\n",
    "    \n",
    "    # SOLUTION: Activation.\n",
    "    conv2 = tf.nn.relu(conv2)\n",
    "    conv2 = tf.nn.dropout(conv2, 0.5)\n",
    "    \n",
    "    '''\n",
    "    # SOLUTION: Pooling. Input = 10x10x64. Output = 5x5x64\n",
    "    conv2 = tf.nn.max_pool(conv2, ksize=[1, 2, 2, 1], strides=[1, 2, 2, 1], padding='VALID')\n",
    "    conv2 = tf.nn.dropout(conv2, 0.5)\n",
    "    '''\n",
    "    \n",
    "    # SOLUTION: Layer 3: Convolutional. Input = 10x10x64. Output = 6x6x128\n",
    "    conv3_W = tf.Variable(tf.truncated_normal(shape=(5, 5, 64, 128), mean = mu, stddev = sigma))\n",
    "    conv3_b = tf.Variable(tf.zeros(128))\n",
    "    conv3  = tf.nn.conv2d(conv2, conv3_W, strides=[1, 1, 1, 1], padding='VALID') + conv3_b\n",
    "    \n",
    "    # SOLUTION: Activation.\n",
    "    conv3 = tf.nn.relu(conv3)\n",
    "    conv3 = tf.nn.dropout(conv3, 0.5)\n",
    "    \n",
    "    '''\n",
    "    # SOLUTION: Pooling. Input = 10x10x64. Output = 5x5x64\n",
    "    conv3 = tf.nn.max_pool(conv3, ksize=[1, 2, 2, 1], strides=[1, 2, 2, 1], padding='VALID')\n",
    "    conv3 = tf.nn.dropout(conv3, 0.5)\n",
    "    '''\n",
    "    \n",
    "    # SOLUTION: Flatten. Input = 14x14x32. Output = 4608.\n",
    "    fc0   = flatten(conv3)\n",
    "    \n",
    "    # SOLUTION: Layer 4: Fully Connected. Input = 1024. Output = 1024.\n",
    "    fc1_W = tf.Variable(tf.truncated_normal(shape=(4608, 1024), mean = mu, stddev = sigma))\n",
    "    fc1_b = tf.Variable(tf.zeros(1024))\n",
    "    fc1   = tf.matmul(fc0, fc1_W) + fc1_b\n",
    "    \n",
    "    # SOLUTION: Activation.\n",
    "    fc1    = tf.nn.relu(fc1)\n",
    "    fc1 = tf.nn.dropout(fc1, 0.5)\n",
    "    \n",
    "    '''\n",
    "    # SOLUTION: Layer 4: Fully Connected. Input = 1024. Output = 1024.\n",
    "    fc2_W  = tf.Variable(tf.truncated_normal(shape=(1024, 1024), mean = mu, stddev = sigma))\n",
    "    fc2_b  = tf.Variable(tf.zeros(1024))\n",
    "    fc2    = tf.matmul(fc1, fc2_W) + fc2_b\n",
    "    \n",
    "    \n",
    "    # SOLUTION: Activation.\n",
    "    fc2    = tf.nn.relu(fc2)\n",
    "    fc2 = tf.nn.dropout(fc2, 0.5)\n",
    "    '''\n",
    "    \n",
    "    # SOLUTION: Layer 5: Fully Connected. Input = 1024. Output = 43.\n",
    "    fc3_W  = tf.Variable(tf.truncated_normal(shape=(1024, 43), mean = mu, stddev = sigma))\n",
    "    fc3_b  = tf.Variable(tf.zeros(43))\n",
    "    logits = tf.matmul(fc1, fc3_W) + fc3_b\n",
    "    #logits = tf.nn.dropout(logits, 0.5)\n",
    "    \n",
    "    return logits"
   ]
  },
  {
   "cell_type": "code",
   "execution_count": 322,
   "metadata": {
    "collapsed": true
   },
   "outputs": [],
   "source": [
    "from tensorflow.contrib.layers import flatten\n",
    "def LeNet(x):    \n",
    "    # Arguments used for tf.truncated_normal, randomly defines variables for the weights and biases for each layer\n",
    "    mu = 0\n",
    "    sigma = 0.1\n",
    "    \n",
    "    # SOLUTION: Layer 1: Convolutional. Input = 32x32x1. Output = 28x28x6.\n",
    "    conv1_W = tf.Variable(tf.truncated_normal(shape=(5, 5, 1, 6), mean = mu, stddev = sigma))\n",
    "    conv1_b = tf.Variable(tf.zeros(6))\n",
    "    conv1   = tf.nn.conv2d(x, conv1_W, strides=[1, 1, 1, 1], padding='VALID') + conv1_b\n",
    "\n",
    "    # SOLUTION: Activation.\n",
    "    conv1 = tf.nn.relu(conv1)\n",
    "\n",
    "    # SOLUTION: Pooling. Input = 28x28x6. Output = 14x14x6.\n",
    "    conv1 = tf.nn.max_pool(conv1, ksize=[1, 2, 2, 1], strides=[1, 2, 2, 1], padding='VALID')\n",
    "\n",
    "    # SOLUTION: Layer 2: Convolutional. Output = 10x10x16.\n",
    "    conv2_W = tf.Variable(tf.truncated_normal(shape=(5, 5, 6, 16), mean = mu, stddev = sigma))\n",
    "    conv2_b = tf.Variable(tf.zeros(16))\n",
    "    conv2   = tf.nn.conv2d(conv1, conv2_W, strides=[1, 1, 1, 1], padding='VALID') + conv2_b\n",
    "    \n",
    "    # SOLUTION: Activation.\n",
    "    conv2 = tf.nn.relu(conv2)\n",
    "\n",
    "    # SOLUTION: Pooling. Input = 10x10x16. Output = 5x5x16.\n",
    "    conv2 = tf.nn.max_pool(conv2, ksize=[1, 2, 2, 1], strides=[1, 2, 2, 1], padding='VALID')\n",
    "\n",
    "    # SOLUTION: Flatten. Input = 5x5x16. Output = 400.\n",
    "    fc0   = flatten(conv2)\n",
    "    \n",
    "    # SOLUTION: Layer 3: Fully Connected. Input = 400. Output = 120.\n",
    "    fc1_W = tf.Variable(tf.truncated_normal(shape=(400, 120), mean = mu, stddev = sigma))\n",
    "    fc1_b = tf.Variable(tf.zeros(120))\n",
    "    fc1   = tf.matmul(fc0, fc1_W) + fc1_b\n",
    "    \n",
    "    # SOLUTION: Activation.\n",
    "    fc1    = tf.nn.relu(fc1)\n",
    "    fc1 = tf.nn.dropout(fc1, 0.5)\n",
    "    \n",
    "    # SOLUTION: Layer 4: Fully Connected. Input = 120. Output = 84.\n",
    "    fc2_W  = tf.Variable(tf.truncated_normal(shape=(120, 84), mean = mu, stddev = sigma))\n",
    "    fc2_b  = tf.Variable(tf.zeros(84))\n",
    "    fc2    = tf.matmul(fc1, fc2_W) + fc2_b\n",
    "    \n",
    "    # SOLUTION: Activation.\n",
    "    fc2    = tf.nn.relu(fc2)\n",
    "    fc2 = tf.nn.dropout(fc2, 0.5)\n",
    "    \n",
    "    # SOLUTION: Layer 5: Fully Connected. Input = 84. Output = 10.\n",
    "    fc3_W  = tf.Variable(tf.truncated_normal(shape=(84, 43), mean = mu, stddev = sigma))\n",
    "    fc3_b  = tf.Variable(tf.zeros(43))\n",
    "    logits = tf.matmul(fc2, fc3_W) + fc3_b\n",
    "    \n",
    "    return logits"
   ]
  },
  {
   "cell_type": "code",
   "execution_count": 323,
   "metadata": {
    "collapsed": false
   },
   "outputs": [],
   "source": [
    "### Train your model here.io\n",
    "### Feel free to use as many code cells as needed.\n",
    "graph = tf.Graph()\n",
    "with graph.as_default():\n",
    "    rate = 0.001\n",
    "    EPOCHS = 150\n",
    "    BATCH_SIZE = 250\n",
    "\n",
    "    x = tf.placeholder(tf.float32, (None, 32, 32, 1))\n",
    "    y = tf.placeholder(tf.int32, (None))\n",
    "    one_hot_y = tf.one_hot(y, 43)\n",
    "    logits = LeNet2(x)\n",
    "    cross_entropy = tf.nn.softmax_cross_entropy_with_logits(logits, one_hot_y)\n",
    "    loss_operation = tf.reduce_mean(cross_entropy)\n",
    "\n",
    "    # Optimizer.\n",
    "    optimizer = tf.train.AdamOptimizer(learning_rate = rate)\n",
    "\n",
    "    training_operation = optimizer.minimize(loss_operation)\n",
    "\n",
    "    correct_prediction = tf.equal(tf.argmax(logits, 1), tf.argmax(one_hot_y, 1))\n",
    "    accuracy_operation = tf.reduce_mean(tf.cast(correct_prediction, tf.float32))\n",
    "    saver = tf.train.Saver()\n",
    "\n",
    "    def evaluate(X_data, y_data,sess=tf.get_default_session()):\n",
    "        num_examples = len(X_data)\n",
    "        total_accuracy = 0\n",
    "        #sess = tf.get_default_session()\n",
    "        for offset in range(0, num_examples, BATCH_SIZE):\n",
    "            batch_x, batch_y = X_data[offset:offset+BATCH_SIZE], y_data[offset:offset+BATCH_SIZE]\n",
    "            accuracy = sess.run(accuracy_operation, feed_dict={x: batch_x, y: batch_y})\n",
    "            total_accuracy += (accuracy * len(batch_x))\n",
    "        return (total_accuracy / num_examples)"
   ]
  },
  {
   "cell_type": "code",
   "execution_count": 324,
   "metadata": {
    "collapsed": false
   },
   "outputs": [],
   "source": [
    "from sklearn.utils import shuffle\n",
    "import tensorflow as tf\n",
    "\n",
    "with graph.as_default():\n",
    "    def train(X_train,y_train) :\n",
    "        with tf.Session() as sess:\n",
    "            sess.run(tf.global_variables_initializer())\n",
    "            num_examples = len(X_train)\n",
    "\n",
    "            print(\"Preprocessing Train Data...\")\n",
    "            print()\n",
    "            dp = DataPreprocessor()     \n",
    "            X_train = dp.preprocess_batch(X_train)\n",
    "            print(X_train.shape)\n",
    "\n",
    "            print('Augmenting Data...')\n",
    "            print()\n",
    "            X_train, y_train = augment(X_train, y_train)\n",
    "            print(X_train.shape)\n",
    "\n",
    "            X_train = np.asarray(X_train).reshape(X_train.shape[0],X_train.shape[1],X_train.shape[2],1)\n",
    "\n",
    "            print('Spliting Train Data...')\n",
    "            X_train, X_validation, y_train, y_validation = split_data(X_train, y_train)\n",
    "            print()\n",
    "            print('Train lenght : ',X_train.shape)\n",
    "            print('Train lenght : ',X_validation.shape)\n",
    "\n",
    "            print(\"Training Model...\")\n",
    "            print()\n",
    "            for i in range(EPOCHS):\n",
    "                X_train, y_train = shuffle(X_train, y_train)\n",
    "                for offset in range(0, num_examples, BATCH_SIZE):\n",
    "                    end = offset + BATCH_SIZE\n",
    "                    batch_x, batch_y = X_train[offset:end], y_train[offset:end]\n",
    "                    accuracy = sess.run(training_operation, feed_dict={x: batch_x, y: batch_y})\n",
    "\n",
    "\n",
    "                validation_accuracy = evaluate(X_validation, y_validation)\n",
    "                print(\"EPOCH {} ...\".format(i+1))\n",
    "                print(\"Validation Accuracy = {:.3f}\".format(validation_accuracy))\n",
    "                #print('Validation accuracy: %.3f%%' % validation_accuracy)\n",
    "                print()\n",
    "\n",
    "            saver.save(sess, './lenano')\n",
    "            print(\"Model saved\")\n",
    "\n",
    "    #train(X_train,y_train)"
   ]
  },
  {
   "cell_type": "code",
   "execution_count": 325,
   "metadata": {
    "collapsed": false
   },
   "outputs": [],
   "source": [
    "\n",
    "with graph.as_default():\n",
    "    def test(X_test,y_test):\n",
    "        print(\"Preprocessing Test Data...\")\n",
    "        print()\n",
    "        dp = DataPreprocessor()     \n",
    "\n",
    "\n",
    "        with tf.Session() as sess:\n",
    "            X_test = dp.preprocess_batch(X_test)\n",
    "            X_test = np.asarray(X_test).reshape(X_test.shape[0],X_test.shape[1],X_test.shape[2],1)\n",
    "            print(X_test.shape)\n",
    "            saver = tf.train.import_meta_graph('./lenano.meta')\n",
    "            #saver.restore(sess, tf.train.latest_checkpoint('.'))\n",
    "            ckpt = str(tf.train.latest_checkpoint('.')) \n",
    "            print(ckpt)\n",
    "            if ckpt:\n",
    "                saver.restore(sess, ckpt)\n",
    "                print('Restored!')\n",
    "                sess.run(tf.global_variables_initializer())\n",
    "                test_accuracy = evaluate(X_test, y_test, sess)\n",
    "\n",
    "                print(\"Test Accuracy = {:.3f}\".format(test_accuracy))\n",
    "\n",
    "    #test(X_test,y_test)"
   ]
  },
  {
   "cell_type": "markdown",
   "metadata": {},
   "source": [
    "### Question 4\n",
    "\n",
    "_How did you train your model? (Type of optimizer, batch size, epochs, hyperparameters, etc.)_\n"
   ]
  },
  {
   "cell_type": "markdown",
   "metadata": {},
   "source": [
    "**Answer:**\n",
    "I started naively by training my model using the following parameters :\n",
    "1/ rate = 0.001\n",
    "2/ EPOCHS = 150\n",
    "3/ BATCH_SIZE = 250\n",
    "\n",
    "implement the following workflow :\n",
    "*/ Training data is drouped out using a parameter keep_prob = 0.5 for the validation training step \n",
    "*/for each batch of 128 examples, \n",
    "    */trained using an Adam optimizer because it uses Kingma and Ba's Adam algorithm to control the learning rate. Adam offers several advantages over the simple tf.train.GradientDescentOptimizer. http://stats.stackexchange.com/questions/184448/difference-between-gradientdescentoptimizer-and-adamoptimizer-tensorflow\n",
    "    \n",
    "    */Creates a validation dataset using 30% of the size of training dataset and the data augementer library. The advantages of this technique is taking a copy of each choosen training example and augment it which leads to not reduce the training dataset size. To do that for each epochs, the starting element of the validation dataset is calculated randomly.\n",
    "    */Validation accuracy is then calculated and displayed.\n",
    "    \n",
    "   "
   ]
  },
  {
   "cell_type": "markdown",
   "metadata": {},
   "source": [
    "### Question 5\n",
    "\n",
    "\n",
    "_What approach did you take in coming up with a solution to this problem? It may have been a process of trial and error, in which case, outline the steps you took to get to the final solution and why you chose those steps. Perhaps your solution involved an already well known implementation or architecture. In this case, discuss why you think this is suitable for the current problem._"
   ]
  },
  {
   "cell_type": "markdown",
   "metadata": {},
   "source": [
    "**Answer:**\n",
    "\n",
    "I tried to vary :\n",
    "    The learning rate between 0.1 and 000.1 \n",
    "    the BATCH_SIZE between 128 and 250\n",
    "    The EPOCHS between 50 and 250\n",
    "but i notice that the results were very poor. The validation accuracy was between 0.09 and 0.5 despite i'm using dropouts, 20% validation set, preprocessing data and data augmentation.\n",
    "\n",
    "After many attempts i notice that the problem was the lack of data and the image constituation (RGB).\n",
    "\n",
    "Work aroud :\n",
    "\n",
    "1/Data Preprocessing And Data Augmentation :\n",
    "\n",
    "I preprocessed the dataset images by transforming them from (32,32,3) to (32,32,1)  RGB to Gray\n",
    "I augmented the dataset from : (39209, 32, 32,1) to three times to get :\n",
    "        Shape of training examples =  (94101, 32, 32, 1)\n",
    "        Shape of validation examples =  (23526, 32, 32, 1)\n",
    "The augmentation process is done using Affine transform to each image and randomly applying Sobel and invertion algorithms\n",
    "\n",
    "2/ Hyperaparameters see bellow \n",
    "\n",
    "Result : After running the model with new datasets the results were very fine. The validation accuracy is aroud 0.92 or 92%"
   ]
  },
  {
   "cell_type": "markdown",
   "metadata": {},
   "source": [
    "---\n",
    "\n",
    "## Step 3: Test a Model on New Images\n",
    "\n",
    "Take several pictures of traffic signs that you find on the web or around you (at least five), and run them through your classifier on your computer to produce example results. The classifier might not recognize some local signs but it could prove interesting nonetheless.\n",
    "\n",
    "You may find `signnames.csv` useful as it contains mappings from the class id (integer) to the actual sign name."
   ]
  },
  {
   "cell_type": "markdown",
   "metadata": {},
   "source": [
    "### Implementation\n",
    "\n",
    "Use the code cell (or multiple code cells, if necessary) to implement the first step of your project. Once you have completed your implementation and are satisfied with the results, be sure to thoroughly answer the questions that follow."
   ]
  },
  {
   "cell_type": "code",
   "execution_count": 326,
   "metadata": {
    "collapsed": false
   },
   "outputs": [],
   "source": [
    "### Load the images and plot them here.\n",
    "### Feel free to use as many code cells as needed.\n",
    "import matplotlib.image as mpimg\n",
    "import matplotlib.pyplot as plt\n",
    "\n",
    "def load_images(path,imagesname):\n",
    "\n",
    "    dp = DataPreprocessor()     \n",
    " \n",
    "    images = [] #np.float32(np.zeros((5,32,32,3)))\n",
    "    \n",
    "    for idx,name in enumerate(imagesname):\n",
    "        image = mpimg.imread(path + name)\n",
    "        #image = image.resize((int(width),int(height)),Image.ANTIALIAS)\n",
    "        print(image.shape)\n",
    "        images.append(image)\n",
    "        plt.figure(figsize=(1,1))\n",
    "        plt.imshow(image)\n",
    "        plt.show()\n",
    "    images = np.asarray(images).reshape(len(images),32,32,3)   \n",
    "    imgs = dp.preprocess_batch(images)\n",
    "    return imgs   \n",
    "\n",
    "imagesname = ['donkey-blur-radial.jpg', 'circular-blur-angular-.jpg', 'deer-blur-linear-.jpg', \\\n",
    "                'back-Bayer.jpg', 'donotpass-cracks.jpg']\n",
    "#images = load_images('images/',imgnames)"
   ]
  },
  {
   "cell_type": "markdown",
   "metadata": {},
   "source": [
    "### Question 6\n",
    "\n",
    "_Choose five candidate images of traffic signs and provide them in the report. Are there any particular qualities of the image(s) that might make classification difficult? It could be helpful to plot the images in the notebook._\n",
    "\n"
   ]
  },
  {
   "cell_type": "markdown",
   "metadata": {},
   "source": [
    "**Answer:**\n",
    "I Chose five candidate images from the web to which i add some effects that may occur in real situations :\n",
    "Linear blur : the driver eye can capture for example linear blurred  deer warning's sign du to vehicle speed.\n",
    "Circular blur : the driver eye can capture for example circular blurred circular warning sign du natural optical effect\n",
    "Radial blur : the driver eye can capture for example radial blurred donkey warning sign du natural optical effect combined with vehicle speed\n",
    "Bayer affect : the driver eye can capture not-allowed-turn-back lightned and pixeled sign at evening or at night  \n",
    "Craked effect : the driver eye can capture do-not-pass craked sign \n",
    "\n",
    "All the above signs with the associated effects are not existing in the dataset and it may be intersting to see how the model will beheive against them. \n",
    "The difficulties that the model will face are :\n",
    "linear blur : verify if the model has memorize the linear shape even it is stretched from right to left\n",
    "circular blur : verify if the model has memorize the circular shape even it is stretched using clock-wise rotation \n",
    "radial blur : verify if the model has memorize the normal shape even its featrures are exploded from the center to a certain distance from it."
   ]
  },
  {
   "cell_type": "code",
   "execution_count": 330,
   "metadata": {
    "collapsed": false
   },
   "outputs": [
    {
     "name": "stdout",
     "output_type": "stream",
     "text": [
      "(32, 32, 3)\n"
     ]
    },
    {
     "data": {
      "image/png": "[encoded data removed]",
      "text/plain": [
       "<matplotlib.figure.Figure at 0x7f2281a34320>"
      ]
     },
     "metadata": {},
     "output_type": "display_data"
    },
    {
     "name": "stdout",
     "output_type": "stream",
     "text": [
      "(32, 32, 3)\n"
     ]
    },
    {
     "data": {
      "image/png": "[encoded data removed]",
      "text/plain": [
       "<matplotlib.figure.Figure at 0x7f228029a908>"
      ]
     },
     "metadata": {},
     "output_type": "display_data"
    },
    {
     "name": "stdout",
     "output_type": "stream",
     "text": [
      "(32, 32, 3)\n"
     ]
    },
    {
     "data": {
      "image/png": "[encoded data removed]",
      "text/plain": [
       "<matplotlib.figure.Figure at 0x7f22886cea20>"
      ]
     },
     "metadata": {},
     "output_type": "display_data"
    },
    {
     "name": "stdout",
     "output_type": "stream",
     "text": [
      "(32, 32, 3)\n"
     ]
    },
    {
     "data": {
      "image/png": "[encoded data removed]",
      "text/plain": [
       "<matplotlib.figure.Figure at 0x7f228c266f98>"
      ]
     },
     "metadata": {},
     "output_type": "display_data"
    },
    {
     "name": "stdout",
     "output_type": "stream",
     "text": [
      "(32, 32, 3)\n"
     ]
    },
    {
     "data": {
      "image/png": "[encoded data removed]",
      "text/plain": [
       "<matplotlib.figure.Figure at 0x7f227f6be198>"
      ]
     },
     "metadata": {},
     "output_type": "display_data"
    },
    {
     "name": "stderr",
     "output_type": "stream",
     "text": [
      "100%|██████████| 5/5 [00:00<00:00, 9408.49it/s]"
     ]
    },
    {
     "name": "stdout",
     "output_type": "stream",
     "text": [
      "image shape :  (32, 32, 3)\n",
      "images :  (5, 32, 32, 1)\n"
     ]
    },
    {
     "name": "stderr",
     "output_type": "stream",
     "text": [
      "\n"
     ]
    },
    {
     "name": "stdout",
     "output_type": "stream",
     "text": [
      "./lenano\n",
      "Restored!\n",
      "Predicted Labels\n",
      "[23 25  0 41 26]\n",
      "\n",
      "Top K : \n",
      "TopKV2(values=array([[  1.00000000e+00,   1.71838579e-08,   7.37007289e-10,\n",
      "          1.60770300e-10,   1.54459709e-11],\n",
      "       [  9.93635893e-01,   5.87078789e-03,   4.52459644e-04,\n",
      "          3.16540063e-05,   8.56173483e-06],\n",
      "       [  9.99989629e-01,   1.03925495e-05,   1.47911276e-15,\n",
      "          8.02739159e-16,   3.02711285e-16],\n",
      "       [  1.00000000e+00,   1.70690058e-08,   3.57400741e-11,\n",
      "          1.97046418e-21,   8.12003241e-29],\n",
      "       [  9.99938726e-01,   5.74958394e-05,   3.57000954e-06,\n",
      "          1.02726638e-07,   6.63541542e-08]], dtype=float32), indices=array([[23, 22,  9, 27,  5],\n",
      "       [25, 26, 20, 34, 16],\n",
      "       [ 0, 36,  4, 28, 26],\n",
      "       [41, 24, 33, 35, 38],\n",
      "       [26,  5, 14, 38, 25]], dtype=int32))\n"
     ]
    }
   ],
   "source": [
    "## Run the predictions here.\n",
    "### Feel free to use as many code cells as needed.\n",
    "     \n",
    "def run_predictions(path,imagesname):      \n",
    "    images = load_images(path,imagesname)\n",
    "    images = np.asarray(images).reshape(images.shape[0],images.shape[1],images.shape[2],1)\n",
    "    print('images : ',images.shape)\n",
    "    \n",
    "    with tf.Session('', graph = tf.Graph()) as sess:\n",
    "                saver = tf.train.import_meta_graph('./lenano.meta')\n",
    "                #saver.restore(sess, tf.train.latest_checkpoint('.'))\n",
    "                ckpt = str(tf.train.latest_checkpoint('.')) #tf.train.get_checkpoint_state('.')\n",
    "                print(ckpt)\n",
    "                if ckpt:\n",
    "                    saver.restore(sess, ckpt)\n",
    "                    print('Restored!')\n",
    "                    \n",
    "                    x = tf.placeholder(tf.float32,(5,32, 32, 1))\n",
    "                    logits = LeNet2(x)\n",
    "                    prediction = tf.nn.softmax(logits)\n",
    "                    \n",
    "                    sess.run(tf.global_variables_initializer())\n",
    "                    new_predictions = sess.run(prediction, feed_dict={x: images})\n",
    "                    top_k = sess.run(tf.nn.top_k(new_predictions, 5, sorted=True))\n",
    "                    print(\"Predicted Labels\")\n",
    "                    print(np.argmax(new_predictions, 1))\n",
    "                    print()\n",
    "                    print('Top K : ')\n",
    "                    print(top_k)\n",
    "                    \n",
    "                        \n",
    "run_predictions('images/',imgnames)"
   ]
  },
  {
   "cell_type": "markdown",
   "metadata": {},
   "source": [
    "### Question 7\n",
    "\n",
    "_Is your model able to perform equally well on captured pictures when compared to testing on the dataset? The simplest way to do this check the accuracy of the predictions. For example, if the model predicted 1 out of 5 signs correctly, it's 20% accurate._\n",
    "\n",
    "_**NOTE:** You could check the accuracy manually by using `signnames.csv` (same directory). This file has a mapping from the class id (0-42) to the corresponding sign name. So, you could take the class id the model outputs, lookup the name in `signnames.csv` and see if it matches the sign from the image._\n"
   ]
  },
  {
   "cell_type": "markdown",
   "metadata": {},
   "source": [
    "**Answer:** \n",
    "\"\"\"\n",
    "I run my model vs a set of five signs :\n",
    "Predicted Sign\n",
    "-----------------\n",
    "1/Road work sign - 25\n",
    "2/Children crossing - 28\n",
    "3/Pedastrian Crossing - 27\n",
    "4/Double curve - 19\n",
    "5/Stop sign - 14\n",
    "\n",
    "Real signs :\n",
    "1/Pedastrian Crossing - 27\n",
    "2/End of no passing\n",
    "3/Speed limit (100km/h)\n",
    "4/30,Beware of ice/snow\n",
    "5/Dangerous curve to the left\n",
    "\n",
    "Only the Dangerous curve to the left sing was recognized which leads us to an accuracy of 20%\n",
    "\"\"\""
   ]
  },
  {
   "cell_type": "code",
   "execution_count": 337,
   "metadata": {
    "collapsed": false
   },
   "outputs": [
    {
     "name": "stdout",
     "output_type": "stream",
     "text": [
      "(32, 32, 3)\n"
     ]
    },
    {
     "data": {
      "image/png": "[encoded data removed]",
      "text/plain": [
       "<matplotlib.figure.Figure at 0x7f2280d8d940>"
      ]
     },
     "metadata": {},
     "output_type": "display_data"
    },
    {
     "name": "stdout",
     "output_type": "stream",
     "text": [
      "(32, 32, 3)\n"
     ]
    },
    {
     "data": {
      "image/png": "[encoded data removed]",
      "text/plain": [
       "<matplotlib.figure.Figure at 0x7f2281c28a58>"
      ]
     },
     "metadata": {},
     "output_type": "display_data"
    },
    {
     "name": "stdout",
     "output_type": "stream",
     "text": [
      "(32, 32, 3)\n"
     ]
    },
    {
     "data": {
      "image/png": "[encoded data removed]",
      "text/plain": [
       "<matplotlib.figure.Figure at 0x7f22ca018c50>"
      ]
     },
     "metadata": {},
     "output_type": "display_data"
    },
    {
     "name": "stdout",
     "output_type": "stream",
     "text": [
      "(32, 32, 3)\n"
     ]
    },
    {
     "data": {
      "image/png": "[encoded data removed]",
      "text/plain": [
       "<matplotlib.figure.Figure at 0x7f22c93cf6d8>"
      ]
     },
     "metadata": {},
     "output_type": "display_data"
    },
    {
     "name": "stdout",
     "output_type": "stream",
     "text": [
      "(32, 32, 3)\n"
     ]
    },
    {
     "data": {
      "image/png": "[encoded data removed]",
      "text/plain": [
       "<matplotlib.figure.Figure at 0x7f2282628908>"
      ]
     },
     "metadata": {},
     "output_type": "display_data"
    },
    {
     "name": "stderr",
     "output_type": "stream",
     "text": [
      "100%|██████████| 5/5 [00:00<00:00, 10225.02it/s]"
     ]
    },
    {
     "name": "stdout",
     "output_type": "stream",
     "text": [
      "image shape :  (32, 32, 3)\n",
      "images :  (5, 32, 32, 1)\n"
     ]
    },
    {
     "name": "stderr",
     "output_type": "stream",
     "text": [
      "\n"
     ]
    },
    {
     "name": "stdout",
     "output_type": "stream",
     "text": [
      "./lenano\n",
      "Restored!\n",
      "Predicted Labels\n",
      "[27 15 12 12 39]\n",
      "\n",
      "Top K : \n",
      "TopKV2(values=array([[  1.00000000e+00,   5.12064142e-19,   1.44480463e-21,\n",
      "          6.12688954e-22,   3.21995207e-27],\n",
      "       [  9.66630161e-01,   3.23932357e-02,   7.94296386e-04,\n",
      "          1.18330347e-04,   5.50339719e-05],\n",
      "       [  9.99999642e-01,   3.54828416e-07,   1.65766734e-10,\n",
      "          2.31894278e-12,   1.32614669e-19],\n",
      "       [  9.73564684e-01,   2.64139771e-02,   2.13874773e-05,\n",
      "          9.22845550e-11,   1.69380578e-21],\n",
      "       [  9.96897459e-01,   3.10258777e-03,   8.92164786e-10,\n",
      "          1.97077160e-10,   4.94082365e-15]], dtype=float32), indices=array([[27, 18,  1, 40,  4],\n",
      "       [15,  1, 27, 10,  3],\n",
      "       [12, 37, 10,  7, 13],\n",
      "       [12,  3, 42, 40, 41],\n",
      "       [39, 42, 41, 12, 37]], dtype=int32))\n"
     ]
    }
   ],
   "source": [
    "### Visualize the softmax probabilities here.\n",
    "### Feel free to use as many code cells as needed.\n",
    "\n",
    "imgnames = ['01.jpg', '02.jpg', '03.jpg', \\\n",
    "                '04.jpg', '05.jpg']\n",
    "\n",
    "run_predictions('images/',imgnames)"
   ]
  },
  {
   "cell_type": "markdown",
   "metadata": {},
   "source": [
    "### Question 8\n",
    "\n",
    "*Use the model's softmax probabilities to visualize the **certainty** of its predictions, [`tf.nn.top_k`](https://www.tensorflow.org/versions/r0.12/api_docs/python/nn.html#top_k) could prove helpful here. Which predictions is the model certain of? Uncertain? If the model was incorrect in its initial prediction, does the correct prediction appear in the top k? (k should be 5 at most)*\n",
    "\n",
    "`tf.nn.top_k` will return the values and indices (class ids) of the top k predictions. So if k=3, for each sign, it'll return the 3 largest probabilities (out of a possible 43) and the correspoding class ids.\n",
    "\n",
    "Take this numpy array as an example:\n",
    "\n",
    "```\n",
    "# (5, 6) array\n",
    "a = np.array([[ 0.24879643,  0.07032244,  0.12641572,  0.34763842,  0.07893497,\n",
    "         0.12789202],\n",
    "       [ 0.28086119,  0.27569815,  0.08594638,  0.0178669 ,  0.18063401,\n",
    "         0.15899337],\n",
    "       [ 0.26076848,  0.23664738,  0.08020603,  0.07001922,  0.1134371 ,\n",
    "         0.23892179],\n",
    "       [ 0.11943333,  0.29198961,  0.02605103,  0.26234032,  0.1351348 ,\n",
    "         0.16505091],\n",
    "       [ 0.09561176,  0.34396535,  0.0643941 ,  0.16240774,  0.24206137,\n",
    "         0.09155967]])\n",
    "```\n",
    "\n",
    "Running it through `sess.run(tf.nn.top_k(tf.constant(a), k=3))` produces:\n",
    "\n",
    "```\n",
    "TopKV2(values=array([[ 0.34763842,  0.24879643,  0.12789202],\n",
    "       [ 0.28086119,  0.27569815,  0.18063401],\n",
    "       [ 0.26076848,  0.23892179,  0.23664738],\n",
    "       [ 0.29198961,  0.26234032,  0.16505091],\n",
    "       [ 0.34396535,  0.24206137,  0.16240774]]), indices=array([[3, 0, 5],\n",
    "       [0, 1, 4],\n",
    "       [0, 5, 1],\n",
    "       [1, 3, 5],\n",
    "       [1, 4, 3]], dtype=int32))\n",
    "```\n",
    "\n",
    "Looking just at the first row we get `[ 0.34763842,  0.24879643,  0.12789202]`, you can confirm these are the 3 largest probabilities in `a`. You'll also notice `[3, 0, 5]` are the corresponding indices."
   ]
  },
  {
   "cell_type": "markdown",
   "metadata": {},
   "source": [
    "**Answer:**"
   ]
  },
  {
   "cell_type": "markdown",
   "metadata": {},
   "source": [
    "> **Note**: Once you have completed all of the code implementations and successfully answered each question above, you may finalize your work by exporting the iPython Notebook as an HTML document. You can do this by using the menu above and navigating to  \\n\",\n",
    "    \"**File -> Download as -> HTML (.html)**. Include the finished document along with this notebook as your submission."
   ]
  },
  {
   "cell_type": "code",
   "execution_count": null,
   "metadata": {
    "collapsed": true
   },
   "outputs": [],
   "source": []
  }
 ],
 "metadata": {
  "anaconda-cloud": {},
  "kernelspec": {
   "display_name": "Python 3",
   "language": "python",
   "name": "python3"
  },
  "language_info": {
   "codemirror_mode": {
    "name": "ipython",
    "version": 3
   },
   "file_extension": ".py",
   "mimetype": "text/x-python",
   "name": "python",
   "nbconvert_exporter": "python",
   "pygments_lexer": "ipython3",
   "version": "3.5.2"
  },
  "widgets": {
   "state": {},
   "version": "1.1.2"
  }
 },
 "nbformat": 4,
 "nbformat_minor": 1
}
