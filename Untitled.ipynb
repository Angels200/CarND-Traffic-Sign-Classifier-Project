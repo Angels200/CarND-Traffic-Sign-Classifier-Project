{
 "cells": [
  {
   "cell_type": "code",
   "execution_count": 1,
   "metadata": {
    "collapsed": false
   },
   "outputs": [
    {
     "ename": "Error",
     "evalue": "cuInit failed: unknown error",
     "output_type": "error",
     "traceback": [
      "\u001b[0;31m---------------------------------------------------------------------------\u001b[0m",
      "\u001b[0;31mError\u001b[0m                                     Traceback (most recent call last)",
      "\u001b[0;32m<ipython-input-1-a7bd94eec81b>\u001b[0m in \u001b[0;36m<module>\u001b[0;34m()\u001b[0m\n\u001b[1;32m     46\u001b[0m     \u001b[0;32mreturn\u001b[0m \u001b[0moutput_array\u001b[0m\u001b[0;34m\u001b[0m\u001b[0m\n\u001b[1;32m     47\u001b[0m \u001b[0;34m\u001b[0m\u001b[0m\n\u001b[0;32m---> 48\u001b[0;31m \u001b[0mcuda\u001b[0m\u001b[0;34m.\u001b[0m\u001b[0minit\u001b[0m\u001b[0;34m(\u001b[0m\u001b[0;34m)\u001b[0m\u001b[0;34m\u001b[0m\u001b[0m\n\u001b[0m\u001b[1;32m     49\u001b[0m \u001b[0msome_array\u001b[0m \u001b[0;34m=\u001b[0m \u001b[0mnumpy\u001b[0m\u001b[0;34m.\u001b[0m\u001b[0mones\u001b[0m\u001b[0;34m(\u001b[0m\u001b[0;34m(\u001b[0m\u001b[0;36m1\u001b[0m\u001b[0;34m,\u001b[0m\u001b[0;36m512\u001b[0m\u001b[0;34m)\u001b[0m\u001b[0;34m,\u001b[0m \u001b[0mdtype\u001b[0m\u001b[0;34m=\u001b[0m\u001b[0mnumpy\u001b[0m\u001b[0;34m.\u001b[0m\u001b[0mfloat32\u001b[0m\u001b[0;34m)\u001b[0m\u001b[0;34m\u001b[0m\u001b[0m\n\u001b[1;32m     50\u001b[0m \u001b[0mnum\u001b[0m \u001b[0;34m=\u001b[0m \u001b[0mcuda\u001b[0m\u001b[0;34m.\u001b[0m\u001b[0mDevice\u001b[0m\u001b[0;34m.\u001b[0m\u001b[0mcount\u001b[0m\u001b[0;34m(\u001b[0m\u001b[0;34m)\u001b[0m\u001b[0;34m\u001b[0m\u001b[0m\n",
      "\u001b[0;31mError\u001b[0m: cuInit failed: unknown error"
     ]
    }
   ],
   "source": [
    "import pycuda\n",
    "import pycuda.driver as cuda\n",
    "from pycuda.compiler import SourceModule\n",
    "import threading\n",
    "import numpy\n",
    "\n",
    "class GPUThread(threading.Thread):\n",
    "    def __init__(self, number, some_array):\n",
    "        threading.Thread.__init__(self)\n",
    "\n",
    "        self.number = number\n",
    "        self.some_array = some_array\n",
    "\n",
    "    def run(self):\n",
    "        self.dev = cuda.Device(self.number)\n",
    "        self.ctx = self.dev.make_context()\n",
    "\n",
    "        self.array_gpu = cuda.mem_alloc(some_array.nbytes)\n",
    "        cuda.memcpy_htod(self.array_gpu, some_array)\n",
    "\n",
    "        test_kernel(self.array_gpu)\n",
    "        print(\"successful exit from thread %d\" % self.number)\n",
    "        self.ctx.pop()\n",
    "\n",
    "        del self.array_gpu\n",
    "        del self.ctx\n",
    "\n",
    "def test_kernel(input_array_gpu):\n",
    "    mod = SourceModule(\"\"\"\n",
    "        __global__ void f(float * out, float * in)\n",
    "        {\n",
    "            int idx = threadIdx.x;\n",
    "            out[idx] = in[idx] + 6;\n",
    "        }\n",
    "        \"\"\")\n",
    "    func = mod.get_function(\"f\")\n",
    "\n",
    "    output_array = numpy.zeros((1,512))\n",
    "    output_array_gpu = cuda.mem_alloc(output_array.nbytes)\n",
    "\n",
    "    func(output_array_gpu,\n",
    "          input_array_gpu,\n",
    "          block=(512,1,1))\n",
    "    cuda.memcpy_dtoh(output_array, output_array_gpu)\n",
    "\n",
    "    return output_array\n",
    "\n",
    "cuda.init()\n",
    "some_array = numpy.ones((1,512), dtype=numpy.float32)\n",
    "num = cuda.Device.count()\n",
    "\n",
    "gpu_thread_list = []\n",
    "for i in range(num):\n",
    "    gpu_thread = GPUThread(i, some_array)\n",
    "    gpu_thread.start()\n",
    "    gpu_thread_list.append(gpu_thread)\n"
   ]
  },
  {
   "cell_type": "code",
   "execution_count": null,
   "metadata": {
    "collapsed": true
   },
   "outputs": [],
   "source": []
  },
  {
   "cell_type": "code",
   "execution_count": null,
   "metadata": {
    "collapsed": true
   },
   "outputs": [],
   "source": []
  },
  {
   "cell_type": "code",
   "execution_count": null,
   "metadata": {
    "collapsed": true
   },
   "outputs": [],
   "source": [
    "    "
   ]
  }
 ],
 "metadata": {
  "kernelspec": {
   "display_name": "Python 3",
   "language": "python",
   "name": "python3"
  },
  "language_info": {
   "codemirror_mode": {
    "name": "ipython",
    "version": 3
   },
   "file_extension": ".py",
   "mimetype": "text/x-python",
   "name": "python",
   "nbconvert_exporter": "python",
   "pygments_lexer": "ipython3",
   "version": "3.5.2"
  },
  "widgets": {
   "state": {},
   "version": "1.1.2"
  }
 },
 "nbformat": 4,
 "nbformat_minor": 2
}
